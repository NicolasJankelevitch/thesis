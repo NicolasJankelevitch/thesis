{
 "cells": [
  {
   "cell_type": "markdown",
   "metadata": {},
   "source": [
    "start with importing everything you need"
   ]
  },
  {
   "cell_type": "code",
   "execution_count": 70,
   "metadata": {},
   "outputs": [
    {
     "name": "stdout",
     "output_type": "stream",
     "text": [
      "imports succeeded\n"
     ]
    }
   ],
   "source": [
    "#import os\n",
    "#import sys\n",
    "#module_path = os.path.abspath(os.path.join('..'))\n",
    "#if module_path not in sys.path:\n",
    "#    sys.path.append(module_path)\n",
    "from cobras.cobras import COBRAS\n",
    "from cobras.querier.weak_querier import WeakQuerier\n",
    "from heuristics.splitlevel_estimation_strategy import ConstantSplitLevelEstimationStrategy\n",
    "from pathlib import Path\n",
    "from util.datasets import Dataset\n",
    "import numpy as np\n",
    "from sklearn import metrics\n",
    "print('imports succeeded')"
   ]
  },
  {
   "cell_type": "markdown",
   "metadata": {},
   "source": [
    "Now lets create our dataset and split it in 2, the actual data, and the target"
   ]
  },
  {
   "cell_type": "code",
   "execution_count": 73,
   "metadata": {},
   "outputs": [],
   "source": [
    "\n",
    "data = Dataset(\"iris\")\n",
    "#dataset_path = Path('iris.data').absolute()\n",
    "#dataset = np.loadtxt(dataset_path, delimiter=',')\n",
    "#data = dataset[:,1:]\n",
    "#target = dataset[: , 0]"
   ]
  },
  {
   "cell_type": "markdown",
   "metadata": {},
   "source": [
    "Create an oracle"
   ]
  },
  {
   "cell_type": "code",
   "execution_count": 75,
   "metadata": {},
   "outputs": [],
   "source": [
    "querier = WeakQuerier(data.data,data.target,1000,'local_nondet')"
   ]
  },
  {
   "cell_type": "markdown",
   "metadata": {},
   "source": [
    "create COBRAS object to cluster the data"
   ]
  },
  {
   "cell_type": "code",
   "execution_count": 77,
   "metadata": {
    "scrolled": true
   },
   "outputs": [
    {
     "name": "stdout",
     "output_type": "stream",
     "text": [
      "COBRAS finished in 15.197409868240356s with result [1, 1, 1, 1, 1, 1, 1, 1, 1, 1, 1, 1, 1, 1, 1, 1, 1, 1, 1, 1, 1, 1, 1, 1, 1, 1, 1, 1, 1, 1, 1, 1, 1, 1, 1, 1, 1, 1, 1, 1, 1, 1, 1, 1, 1, 1, 1, 1, 0, 0, 0, 0, 0, 0, 0, 0, 0, 0, 0, 0, 0, 0, 0, 0, 0, 0, 0, 0, 0, 0, 0, 0, 0, 0, 0, 0, 0, 0, 0, 0, 0, 0, 0, 0, 0, 0, 0, 0, 0, 0, 0, 0, 0, 0, 0, 0, 0, 0, 2, 2, 2, 2, 2, 2, 2, 2, 2, 2, 2, 2, 2, 2, 2, 2, 2, 2, 2, 2, 2, 2, 2, 2, 2, 2, 2, 2, 2, 2, 2, 2, 2, 2, 2, 2, 2, 2, 2, 2, 2, 2, 2, 2, 2, 2, 2, 2, 2]\n"
     ]
    }
   ],
   "source": [
    "splitstrat = ConstantSplitLevelEstimationStrategy(2)\n",
    "clusterer = COBRAS(splitstrat)\n",
    "clusterings, runtimes, ml, cl, dk = clusterer.fit(data.data,None, None, querier)\n",
    "\n",
    "print(\"COBRAS finished in {}s with result {}\".format(runtimes[-1],clusterings[-1]))\n",
    "#print(\"Number of DK queries: {}\".format(querier.total_DK))"
   ]
  },
  {
   "cell_type": "code",
   "execution_count": 78,
   "metadata": {},
   "outputs": [
    {
     "name": "stdout",
     "output_type": "stream",
     "text": [
      "Number of queries: 271\n"
     ]
    }
   ],
   "source": [
    "print(\"Number of queries: {}\".format(querier.queries_asked))"
   ]
  },
  {
   "cell_type": "code",
   "execution_count": 79,
   "metadata": {},
   "outputs": [
    {
     "name": "stdout",
     "output_type": "stream",
     "text": [
      "Number of DK queries: 45\n",
      "# of predicted constraints: 15\n",
      "% of correct predictions: 100.0%\n",
      "ARI:  1.0\n",
      "Merging  130\n",
      "Splitting  141\n"
     ]
    }
   ],
   "source": [
    "logger = clusterer.logger\n",
    "print(\"Number of DK queries: {}\".format(querier.total_DK))\n",
    "print(\"# of predicted constraints: {}\".format(len(logger.predicted_constraints)))\n",
    "if len(logger.predicted_constraints) != 0:\n",
    "    print(\"% of correct predictions: {}%\".format(logger.n_correct_preds * 100 / len(logger.predicted_constraints)))\n",
    "print(\"ARI: \", metrics.adjusted_rand_score(data.target, clusterings[-1]))\n",
    "\n",
    "n_merging = logger.algorithm_phases.count(\"merging\")\n",
    "n_splitting = logger.algorithm_phases.count(\"splitting\")\n",
    "print(\"Merging \", n_merging)\n",
    "print(\"Splitting \", n_splitting)\n"
   ]
  },
  {
   "cell_type": "code",
   "execution_count": null,
   "metadata": {},
   "outputs": [],
   "source": []
  }
 ],
 "metadata": {
  "kernelspec": {
   "display_name": "Python 3",
   "language": "python",
   "name": "python3"
  },
  "language_info": {
   "codemirror_mode": {
    "name": "ipython",
    "version": 3
   },
   "file_extension": ".py",
   "mimetype": "text/x-python",
   "name": "python",
   "nbconvert_exporter": "python",
   "pygments_lexer": "ipython3",
   "version": "3.8.3"
  }
 },
 "nbformat": 4,
 "nbformat_minor": 4
}
