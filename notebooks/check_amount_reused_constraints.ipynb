{
 "cells": [
  {
   "cell_type": "code",
   "execution_count": 1,
   "metadata": {},
   "outputs": [],
   "source": [
    "import os\n",
    "import sys\n",
    "module_path_dont_know = os.path.abspath(os.path.join('../COBRAS_dont_know'))\n",
    "\n",
    "if module_path_dont_know not in sys.path:\n",
    "    sys.path.append(module_path_dont_know)\n",
    "    print(\"module path of dont_know added\")"
   ]
  },
  {
   "cell_type": "code",
   "execution_count": 2,
   "metadata": {},
   "outputs": [],
   "source": [
    "from clustering_algorithms.kmeans_fixed_representative import KmeansFixedRepresentative\n",
    "from cobras.cobras import COBRAS\n",
    "from cobras.cobras_logger import COBRASLogger\n",
    "from cobras.querier.labelquerier import LabelQuerier\n",
    "from sklearn import metrics\n",
    "from util.datasets import Dataset\n"
   ]
  },
  {
   "cell_type": "code",
   "execution_count": 3,
   "metadata": {},
   "outputs": [
    {
     "name": "stderr",
     "output_type": "stream",
     "text": [
      "C:\\Users\\nicol\\programmas_school\\anaconda3\\lib\\site-packages\\numpy\\core\\fromnumeric.py:3334: RuntimeWarning: Mean of empty slice.\n",
      "  return _methods._mean(a, axis=axis, dtype=dtype,\n",
      "C:\\Users\\nicol\\programmas_school\\anaconda3\\lib\\site-packages\\numpy\\core\\_methods.py:153: RuntimeWarning: invalid value encountered in true_divide\n",
      "  ret = um.true_divide(\n"
     ]
    }
   ],
   "source": [
    "data = Dataset(\"parkinsons\")\n",
    "clusterer_1 = COBRAS(cluster_algo = KmeansFixedRepresentative())\n",
    "querier_1 = LabelQuerier(data.target,100)\n",
    "clusterings_1, runtimes_1, mls_1, cls_1, dks_1 = clusterer_1.fit(data.data, None, None, querier_1)\n",
    "logger_1: COBRASLogger = clusterer_1.logger\n",
    "    \n",
    "clusterer_2 = COBRAS()\n",
    "querier_2 = LabelQuerier(data.target,100)\n",
    "clusterings_2, runtimes_2, mls_2, cls_2, dks_2 = clusterer_2.fit(data.data, None, None, querier_2)\n",
    "logger_2: COBRASLogger = clusterer_2.logger"
   ]
  },
  {
   "cell_type": "code",
   "execution_count": 4,
   "metadata": {},
   "outputs": [
    {
     "name": "stdout",
     "output_type": "stream",
     "text": [
      "With fixed, the logger gives 20 reuses, the clusterer gives 20 reuses out of 103 tries.\n",
      "with standard, the logger gives 399 reuses, the clusterer gives 399 reuses out of 14364 tries.\n"
     ]
    }
   ],
   "source": [
    "print(\"With fixed, the logger gives {} reuses, the clusterer gives {} reuses out of {} tries.\".format(logger_1.nr_reused_constraints, clusterer_1.nr_reused, clusterer_1.nr_tried))\n",
    "print(\"with standard, the logger gives {} reuses, the clusterer gives {} reuses out of {} tries.\".format( logger_2.nr_reused_constraints, clusterer_2.nr_reused, clusterer_2.nr_tried))"
   ]
  },
  {
   "cell_type": "code",
   "execution_count": 5,
   "metadata": {},
   "outputs": [
    {
     "name": "stdout",
     "output_type": "stream",
     "text": [
      "fixed percentage reused: 0.1941747572815534\n",
      "stdrd percentage reused: 0.027777777777777776\n",
      "fixed finished in 0.040000200271606445s with result [0, 0, 0, 0, 0, 0, 0, 0, 0, 0, 0, 0, 0, 0, 0, 0, 0, 0, 0, 0, 0, 0, 0, 0, 0, 0, 0, 0, 0, 0, 0, 0, 0, 0, 0, 0, 0, 0, 0, 0, 0, 1, 0, 0, 1, 1, 0, 0, 0, 0, 0, 0, 0, 0, 0, 0, 0, 0, 0, 0, 1, 1, 1, 1, 1, 1, 0, 0, 0, 0, 0, 0, 0, 0, 0, 0, 0, 0, 0, 0, 0, 0, 0, 0, 0, 0, 0, 0, 0, 0, 0, 0, 0, 0, 0, 0, 0, 0, 0, 0, 0, 0, 0, 1, 1, 0, 0, 0, 0, 0, 0, 0, 0, 0, 0, 0, 0, 0, 0, 0, 0, 0, 0, 0, 0, 0, 0, 0, 0, 0, 0, 0, 0, 0, 0, 0, 0, 0, 0, 0, 0, 0, 0, 0, 0, 0, 0, 0, 0, 0, 0, 0, 0, 0, 0, 0, 0, 0, 0, 0, 0, 0, 0, 0, 0, 0, 0, 0, 0, 0, 0, 0, 0, 0, 0, 0, 0, 0, 0, 0, 0, 0, 0, 0, 0, 0, 0, 1, 0, 0, 0, 0, 0, 0, 0]\n",
      "stdrd finished in 1.6861178874969482s with result [0, 0, 0, 0, 0, 0, 0, 0, 0, 0, 0, 0, 1, 0, 0, 1, 0, 0, 0, 0, 0, 0, 0, 1, 1, 0, 0, 0, 0, 0, 1, 1, 1, 1, 1, 1, 1, 1, 0, 0, 0, 1, 1, 0, 1, 1, 1, 1, 0, 0, 1, 1, 1, 1, 0, 0, 0, 0, 0, 0, 1, 1, 1, 1, 1, 1, 0, 0, 0, 0, 0, 0, 0, 0, 0, 0, 0, 1, 0, 0, 1, 0, 0, 1, 0, 0, 0, 0, 0, 0, 0, 0, 1, 0, 1, 1, 1, 0, 0, 0, 0, 0, 0, 1, 0, 0, 1, 0, 0, 0, 0, 1, 0, 1, 1, 0, 0, 0, 0, 0, 1, 0, 1, 0, 0, 0, 0, 0, 1, 1, 0, 0, 0, 1, 0, 0, 0, 0, 0, 0, 0, 0, 0, 1, 1, 1, 0, 0, 0, 0, 0, 0, 0, 0, 0, 0, 0, 0, 0, 0, 0, 0, 0, 1, 0, 1, 1, 1, 0, 1, 1, 0, 1, 1, 0, 1, 1, 0, 0, 0, 1, 0, 1, 0, 1, 1, 0, 1, 1, 0, 1, 0, 0, 0, 1]\n",
      "fixed ARI:  0.15598627910796192\n",
      "stdrd ARI:  0.302879709170465\n",
      "Merging  4\n",
      "Merging  51\n",
      "Splitting  7\n",
      "Splitting  49\n"
     ]
    }
   ],
   "source": [
    "print(\"fixed percentage reused: {}\".format(clusterer_1.nr_reused/clusterer_1.nr_tried))\n",
    "print(\"stdrd percentage reused: {}\".format(clusterer_2.nr_reused/clusterer_2.nr_tried))\n",
    "\n",
    "print(\"fixed finished in {}s with result {}\".format(runtimes_1[-1], clusterings_1[-1]))\n",
    "print(\"stdrd finished in {}s with result {}\".format(runtimes_2[-1], clusterings_2[-1]))\n",
    "\n",
    "print(\"fixed ARI: \", metrics.adjusted_rand_score(data.target, clusterings_1[-1]))\n",
    "print(\"stdrd ARI: \", metrics.adjusted_rand_score(data.target, clusterings_2[-1]))\n",
    "\n",
    "n_merging_1 = logger_1.algorithm_phases.count(\"merging\")\n",
    "n_merging_2 = logger_2.algorithm_phases.count(\"merging\")\n",
    "\n",
    "n_splitting_1 = logger_1.algorithm_phases.count(\"splitting\")\n",
    "n_splitting_2 = logger_2.algorithm_phases.count(\"splitting\")\n",
    "print(\"Merging \", n_merging_1)\n",
    "print(\"Merging \", n_merging_2)\n",
    "print(\"Splitting \", n_splitting_1)\n",
    "print(\"Splitting \", n_splitting_2)"
   ]
  },
  {
   "cell_type": "code",
   "execution_count": null,
   "metadata": {},
   "outputs": [],
   "source": []
  }
 ],
 "metadata": {
  "kernelspec": {
   "display_name": "Python 3",
   "language": "python",
   "name": "python3"
  },
  "language_info": {
   "codemirror_mode": {
    "name": "ipython",
    "version": 3
   },
   "file_extension": ".py",
   "mimetype": "text/x-python",
   "name": "python",
   "nbconvert_exporter": "python",
   "pygments_lexer": "ipython3",
   "version": "3.8.3"
  }
 },
 "nbformat": 4,
 "nbformat_minor": 4
}
