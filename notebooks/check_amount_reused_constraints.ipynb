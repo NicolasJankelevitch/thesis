{
 "cells": [
  {
   "cell_type": "code",
   "execution_count": 1,
   "metadata": {},
   "outputs": [
    {
     "name": "stdout",
     "output_type": "stream",
     "text": [
      "module path of dont_know added\n",
      "module path of testing added\n"
     ]
    }
   ],
   "source": [
    "import os\n",
    "import sys\n",
    "module_path_dont_know = os.path.abspath(os.path.join('../COBRAS_dont_know'))\n",
    "module_path_testing = os.path.abspath(os.path.join('../COBRAS_testing'))\n",
    "\n",
    "if module_path_dont_know not in sys.path:\n",
    "    sys.path.append(module_path_dont_know)\n",
    "    print(\"module path of dont_know added\")\n",
    "\n",
    "if module_path_testing not in sys.path:\n",
    "    sys.path.append(module_path_testing)\n",
    "    print(\"module path of testing added\")"
   ]
  },
  {
   "cell_type": "code",
   "execution_count": 2,
   "metadata": {},
   "outputs": [],
   "source": [
    "import ast\n",
    "from config import FOLD_RESULT_DIR\n",
    "import os"
   ]
  },
  {
   "cell_type": "code",
   "execution_count": 8,
   "metadata": {},
   "outputs": [
    {
     "name": "stdout",
     "output_type": "stream",
     "text": [
      "4 56866\n"
     ]
    }
   ],
   "source": [
    "test_names = [\"4\"]\n",
    "\n",
    "for test_name in test_names:\n",
    "    nr_queries = 0\n",
    "    p = os.path.join(FOLD_RESULT_DIR, test_name)\n",
    "    p = os.path.join(p, \"clusterings\")\n",
    "    for dataset in os.listdir(p):\n",
    "        f = os.path.join(p,dataset)\n",
    "        for doc in os.listdir(f):\n",
    "            file = os.path.join(f,doc)\n",
    "            with open(file) as d:\n",
    "                data = d.read()\n",
    "                dictionary = ast.literal_eval(data)\n",
    "                nr_queries = nr_queries + len(dictionary[\"mls\"]) + len(dictionary[\"cls\"]) + len(dictionary[\"dks\"])\n",
    "    print(test_name, nr_queries)"
   ]
  },
  {
   "cell_type": "code",
   "execution_count": null,
   "metadata": {},
   "outputs": [],
   "source": []
  }
 ],
 "metadata": {
  "kernelspec": {
   "display_name": "Python 3",
   "language": "python",
   "name": "python3"
  },
  "language_info": {
   "codemirror_mode": {
    "name": "ipython",
    "version": 3
   },
   "file_extension": ".py",
   "mimetype": "text/x-python",
   "name": "python",
   "nbconvert_exporter": "python",
   "pygments_lexer": "ipython3",
   "version": "3.8.3"
  }
 },
 "nbformat": 4,
 "nbformat_minor": 4
}
