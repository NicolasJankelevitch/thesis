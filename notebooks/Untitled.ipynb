{
 "cells": [
  {
   "cell_type": "code",
   "execution_count": 1,
   "metadata": {},
   "outputs": [
    {
     "name": "stdout",
     "output_type": "stream",
     "text": [
      "module path of dont_know added\n",
      "module path of testing added\n"
     ]
    }
   ],
   "source": [
    "import os\n",
    "import sys\n",
    "module_path_dont_know = os.path.abspath(os.path.join('../COBRAS_dont_know'))\n",
    "module_path_testing = os.path.abspath(os.path.join('../COBRAS_testing'))\n",
    "\n",
    "if module_path_dont_know not in sys.path:\n",
    "    sys.path.append(module_path_dont_know)\n",
    "    print(\"module path of dont_know added\")\n",
    "\n",
    "if module_path_testing not in sys.path:\n",
    "    sys.path.append(module_path_testing)\n",
    "    print(\"module path of testing added\")\n",
    "    \n",
    "from evaluate_clusterings.calculate_aligned_rank import calculate_and_write_aligned_rank\n",
    "from evaluate_clusterings.calculate_aris import calculate_n_times_n_fold_aris_for_testnames\n",
    "from evaluate_clusterings.calculate_average_aris import calculate_average_aris\n",
    "\n",
    "from present_results.plot_aligned_rank import plot_rank_comparison_file\n",
    "from present_results.plot_aris import plot_average_ARI_per_dataset\n",
    "from present_results.plot_aris import plot_overall_average_ARI\n",
    "from present_results.plot_query_reuse import calculate_and_plot_query_reuse"
   ]
  },
  {
   "cell_type": "code",
   "execution_count": 2,
   "metadata": {},
   "outputs": [
    {
     "name": "stderr",
     "output_type": "stream",
     "text": [
      "100%|██████████| 1/1 [00:00<00:00, 83.36it/s]"
     ]
    },
    {
     "name": "stdout",
     "output_type": "stream",
     "text": [
      "Calculating ARIs for n-times n-fold:  ['6']\n",
      "already calculated\n",
      "Calculating average ARIs\n",
      "calculating average rank\n"
     ]
    },
    {
     "name": "stderr",
     "output_type": "stream",
     "text": [
      "\n"
     ]
    },
    {
     "name": "stdout",
     "output_type": "stream",
     "text": [
      "[{'py/set': []}, {'py/set': []}, {'py/set': []}, {'py/set': []}, {'py/set': []}, {'py/set': []}, {'py/set': []}, {'py/set': []}, {'py/set': []}, {'py/set': []}, {'py/set': []}, {'py/set': []}, {'py/set': []}, {'py/set': []}, {'py/set': []}, {'py/set': []}, {'py/set': []}, {'py/set': []}, {'py/set': []}, {'py/set': []}, {'py/set': []}, {'py/set': []}, {'py/set': []}, {'py/set': []}, {'py/set': []}, {'py/set': []}, {'py/set': []}, {'py/set': []}, {'py/set': []}, {'py/set': []}, {'py/set': []}, {'py/set': []}, {'py/set': []}, {'py/set': []}, {'py/set': []}, {'py/set': []}, {'py/set': []}, {'py/set': []}, {'py/set': []}, {'py/set': []}, {'py/set': []}, {'py/set': []}, {'py/set': []}, {'py/set': []}, {'py/set': []}, {'py/set': []}, {'py/set': []}, {'py/set': []}, {'py/set': []}, {'py/set': []}, {'py/set': []}, {'py/set': []}, {'py/set': []}, {'py/set': []}, {'py/set': []}, {'py/set': []}, {'py/set': []}, {'py/set': []}]\n",
      "<class 'list'>\n"
     ]
    },
    {
     "ename": "TypeError",
     "evalue": "unhashable type: 'dict'",
     "output_type": "error",
     "traceback": [
      "\u001b[1;31m---------------------------------------------------------------------------\u001b[0m",
      "\u001b[1;31mTypeError\u001b[0m                                 Traceback (most recent call last)",
      "\u001b[1;32m<ipython-input-2-1fdeabe0551b>\u001b[0m in \u001b[0;36m<module>\u001b[1;34m\u001b[0m\n\u001b[0;32m     14\u001b[0m \u001b[0mplot_rank_comparison_file\u001b[0m\u001b[1;33m(\u001b[0m\u001b[0mcomparison_name\u001b[0m\u001b[1;33m,\u001b[0m \u001b[0mtest_names\u001b[0m\u001b[1;33m,\u001b[0m \u001b[0mtest_names\u001b[0m\u001b[1;33m)\u001b[0m\u001b[1;33m\u001b[0m\u001b[1;33m\u001b[0m\u001b[0m\n\u001b[0;32m     15\u001b[0m \u001b[1;33m\u001b[0m\u001b[0m\n\u001b[1;32m---> 16\u001b[1;33m \u001b[0mcalculate_and_plot_query_reuse\u001b[0m\u001b[1;33m(\u001b[0m\u001b[0mcomparison_name\u001b[0m\u001b[1;33m,\u001b[0m \u001b[0mtest_names\u001b[0m\u001b[1;33m)\u001b[0m\u001b[1;33m\u001b[0m\u001b[1;33m\u001b[0m\u001b[0m\n\u001b[0m\u001b[0;32m     17\u001b[0m \u001b[1;33m\u001b[0m\u001b[0m\n\u001b[0;32m     18\u001b[0m \u001b[0mprint\u001b[0m\u001b[1;33m(\u001b[0m\u001b[1;34mf\"all resulting plots are in {Path(FIGURE_DIR)/comparison_name}\"\u001b[0m\u001b[1;33m)\u001b[0m\u001b[1;33m\u001b[0m\u001b[1;33m\u001b[0m\u001b[0m\n",
      "\u001b[1;32m~\\Documents\\KUL 2020-2021\\thesis\\code\\COBRAS_testing\\present_results\\plot_query_reuse.py\u001b[0m in \u001b[0;36mcalculate_and_plot_query_reuse\u001b[1;34m(comparison_name, test_names)\u001b[0m\n\u001b[0;32m     30\u001b[0m                     \u001b[0mprint\u001b[0m\u001b[1;33m(\u001b[0m\u001b[0mtype\u001b[0m\u001b[1;33m(\u001b[0m\u001b[0mreused_constraints\u001b[0m\u001b[1;33m)\u001b[0m\u001b[1;33m)\u001b[0m\u001b[1;33m\u001b[0m\u001b[1;33m\u001b[0m\u001b[0m\n\u001b[0;32m     31\u001b[0m \u001b[1;33m\u001b[0m\u001b[0m\n\u001b[1;32m---> 32\u001b[1;33m                     \u001b[0munique_constraints\u001b[0m \u001b[1;33m=\u001b[0m \u001b[0mset\u001b[0m\u001b[1;33m(\u001b[0m\u001b[0mreused_constraints\u001b[0m\u001b[1;33m)\u001b[0m\u001b[1;33m\u001b[0m\u001b[1;33m\u001b[0m\u001b[0m\n\u001b[0m\u001b[0;32m     33\u001b[0m                 \u001b[0mtotal_dataset_reuses\u001b[0m \u001b[1;33m=\u001b[0m \u001b[0mtotal_dataset_reuses\u001b[0m \u001b[1;33m+\u001b[0m \u001b[0mlen\u001b[0m\u001b[1;33m(\u001b[0m\u001b[0mreused_constraints\u001b[0m\u001b[1;33m)\u001b[0m\u001b[1;33m\u001b[0m\u001b[1;33m\u001b[0m\u001b[0m\n\u001b[0;32m     34\u001b[0m                 \u001b[0mtotal_dataset_unique\u001b[0m \u001b[1;33m=\u001b[0m \u001b[0mtotal_dataset_unique\u001b[0m \u001b[1;33m+\u001b[0m \u001b[0mlen\u001b[0m\u001b[1;33m(\u001b[0m\u001b[0munique_constraints\u001b[0m\u001b[1;33m)\u001b[0m\u001b[1;33m\u001b[0m\u001b[1;33m\u001b[0m\u001b[0m\n",
      "\u001b[1;31mTypeError\u001b[0m: unhashable type: 'dict'"
     ]
    }
   ],
   "source": [
    "test_names = [\"6\"]\n",
    "comparison_name = 'new_counting_attempt_1'\n",
    "nb_of_cores = 4\n",
    "query_budget = 100\n",
    "\n",
    "#print(clusterer_1.logger.nr_reused_constraints)\n",
    "\n",
    "calculate_n_times_n_fold_aris_for_testnames(test_names, nb_cores=nb_of_cores)\n",
    "calculate_average_aris(test_names, query_budget)\n",
    "calculate_and_write_aligned_rank(test_names,comparison_name)\n",
    "\n",
    "plot_average_ARI_per_dataset(comparison_name, test_names, test_names)\n",
    "plot_overall_average_ARI(comparison_name, test_names, test_names)\n",
    "plot_rank_comparison_file(comparison_name, test_names, test_names)\n",
    "\n",
    "calculate_and_plot_query_reuse(comparison_name, test_names)\n",
    "\n",
    "print(f\"all resulting plots are in {Path(FIGURE_DIR)/comparison_name}\")"
   ]
  },
  {
   "cell_type": "code",
   "execution_count": 27,
   "metadata": {},
   "outputs": [
    {
     "name": "stdout",
     "output_type": "stream",
     "text": [
      "5\n",
      "5\n",
      " phase constraints: {(6, 6), (5, 6)}\n",
      " constraints previously used: {(6, 6), (5, 5), (5, 6)}\n",
      " reused constraints: [(5, 6)]\n"
     ]
    }
   ],
   "source": [
    "reused_constraints = []\n",
    "phase_constraints = set(())\n",
    "constraints_previously_used = set(())\n",
    "x = 5\n",
    "y = 6\n",
    "z = 7\n",
    "q = 8\n",
    "print(x)\n",
    "phase_constraints.add((x,y))\n",
    "phase_constraints.add((x,x))\n",
    "\n",
    "for constraint in phase_constraints:\n",
    "    if constraint in constraints_previously_used:\n",
    "        reused_constraints.append(constraints)\n",
    "constraints_previously_used.update(phase_constraints)\n",
    "phase_constraints = set(())\n",
    "\n",
    "phase_constraints.add((x,y))\n",
    "phase_constraints.add((y,y))\n",
    "for constraint in phase_constraints:\n",
    "    if constraint in constraints_previously_used:\n",
    "        reused_constraints.append(constraint)\n",
    "constraints_previously_used.update(phase_constraints)\n",
    "\n",
    "print(\" phase constraints: {}\\n constraints previously used: {}\\n reused constraints: {}\".format(phase_constraints, constraints_previously_used, reused_constraints))"
   ]
  },
  {
   "cell_type": "code",
   "execution_count": null,
   "metadata": {},
   "outputs": [],
   "source": []
  }
 ],
 "metadata": {
  "kernelspec": {
   "display_name": "Python 3",
   "language": "python",
   "name": "python3"
  },
  "language_info": {
   "codemirror_mode": {
    "name": "ipython",
    "version": 3
   },
   "file_extension": ".py",
   "mimetype": "text/x-python",
   "name": "python",
   "nbconvert_exporter": "python",
   "pygments_lexer": "ipython3",
   "version": "3.8.3"
  }
 },
 "nbformat": 4,
 "nbformat_minor": 4
}
