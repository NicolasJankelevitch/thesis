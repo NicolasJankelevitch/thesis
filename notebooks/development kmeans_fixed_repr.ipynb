{
 "cells": [
  {
   "cell_type": "code",
   "execution_count": 1,
   "metadata": {},
   "outputs": [
    {
     "name": "stdout",
     "output_type": "stream",
     "text": [
      "module path of dont_know added\n",
      "done\n"
     ]
    }
   ],
   "source": [
    "import os\n",
    "import sys\n",
    "module_path_dont_know = os.path.abspath(os.path.join('../COBRAS_dont_know'))\n",
    "\n",
    "if module_path_dont_know not in sys.path:\n",
    "    sys.path.append(module_path_dont_know)\n",
    "    print(\"module path of dont_know added\")\n",
    "\n",
    "from clustering_algorithms.kmeans_fixed_representative import KmeansFixedRepresentative\n",
    "print(\"done\")\n",
    "from clustering_algorithms.clustering_algorithms import ClusterAlgorithm\n",
    "import numpy as np\n",
    "from copy import deepcopy\n",
    "from util.datasets import Dataset"
   ]
  },
  {
   "cell_type": "code",
   "execution_count": 4,
   "metadata": {},
   "outputs": [],
   "source": [
    "dataset = Dataset(\"iris\") \n",
    "data = dataset.data\n",
    "indices = range(len(data))\n",
    "k = 4\n",
    "parent_repr_idx = 10"
   ]
  },
  {
   "cell_type": "code",
   "execution_count": 6,
   "metadata": {},
   "outputs": [
    {
     "name": "stdout",
     "output_type": "stream",
     "text": [
      "error:  2.0126922599933614\n",
      "[3 3 3 3 3 3 3 3 3 3 3 3 3 3 3 3 3 3 3 3 3 3 3 3 3 3 3 3 3 3 3 3 3 3 3 3 3\n",
      " 3 3 3 3 3 3 3 3 3 3 3 0 0 0 1 1 1 0 1 1 1 1 1 1 1 1 0 1 1 1 1 0 1 1 1 1 1\n",
      " 1 0 1 1 1 1 1 1 1 0 0 1 1 1 1 1 1 1 1 1 1 1 1 1 0 1 0 1 0 2 1 0 1 0 0 0 0\n",
      " 1 0 0 0 0 2 1 0 1 2 0 0 0 0 0 0 0 2 0 0 1 1 2 0 0 0 0 0 0 0 0 0 0 0 0 1]\n"
     ]
    }
   ],
   "source": [
    "used_data = data[indices, :]\n",
    "fixed_center = data[parent_repr_idx]\n",
    "\n",
    "# nr of training data\n",
    "n = used_data.shape[0]\n",
    "# nr of features\n",
    "c = used_data.shape[1]\n",
    "\n",
    "# generate random centers, here we use sigma and mean to ensure it represents the whole data\n",
    "mean = np.mean(used_data, axis=0)\n",
    "std = np.std(used_data, axis=0)\n",
    "centers = np.random.randn(k - 1, c) * std + mean\n",
    "centers = np.vstack([centers, fixed_center])\n",
    "\n",
    "centers_old = np.zeros(centers.shape)  # used to store old centers\n",
    "centers_new = deepcopy(centers)  # Store new centers\n",
    "\n",
    "clusters = np.zeros(n)\n",
    "distances = np.zeros((n, k))\n",
    "\n",
    "error = np.linalg.norm(centers_new - centers_old)\n",
    "print(\"error: \",error)\n",
    "n_runs = 10\n",
    "# When, after an update, the estiame of that center stays the same, exit loop\n",
    "runs = 0\n",
    "while error != 0 and runs != n_runs:\n",
    "    # Measure the distance to every center\n",
    "    for i in range(k):\n",
    "        distances[:, i] = np.linalg.norm(used_data - centers[i], axis=1)\n",
    "    clusters = np.argmin(distances, axis=1)\n",
    "    centers_old = deepcopy(centers_new)\n",
    "\n",
    "    for i in range(k - 1):\n",
    "        centers_new[i] = np.mean(used_data[clusters == i], axis=0)\n",
    "    centers_new[k - 1] = centers_old[k - 1]\n",
    "    error = np.linalg.norm(centers_new - centers_old)\n",
    "    runs = runs + 1\n",
    "print(clusters)"
   ]
  },
  {
   "cell_type": "code",
   "execution_count": null,
   "metadata": {},
   "outputs": [],
   "source": []
  }
 ],
 "metadata": {
  "kernelspec": {
   "display_name": "Python 3",
   "language": "python",
   "name": "python3"
  },
  "language_info": {
   "codemirror_mode": {
    "name": "ipython",
    "version": 3
   },
   "file_extension": ".py",
   "mimetype": "text/x-python",
   "name": "python",
   "nbconvert_exporter": "python",
   "pygments_lexer": "ipython3",
   "version": "3.8.3"
  }
 },
 "nbformat": 4,
 "nbformat_minor": 4
}
