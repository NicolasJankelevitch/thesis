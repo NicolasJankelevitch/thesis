{
 "cells": [
  {
   "cell_type": "code",
   "execution_count": 9,
   "metadata": {},
   "outputs": [
    {
     "ename": "SyntaxError",
     "evalue": "EOL while scanning string literal (config.py, line 25)",
     "output_type": "error",
     "traceback": [
      "Traceback \u001b[1;36m(most recent call last)\u001b[0m:\n",
      "  File \u001b[0;32m\"C:\\Users\\nicol\\programmas_school\\anaconda3\\lib\\site-packages\\IPython\\core\\interactiveshell.py\"\u001b[0m, line \u001b[0;32m3343\u001b[0m, in \u001b[0;35mrun_code\u001b[0m\n    exec(code_obj, self.user_global_ns, self.user_ns)\n",
      "  File \u001b[0;32m\"<ipython-input-9-58da1c627ac2>\"\u001b[0m, line \u001b[0;32m18\u001b[0m, in \u001b[0;35m<module>\u001b[0m\n    from generate_clusterings.clustering_task import ClusteringTask\n",
      "  File \u001b[0;32m\"C:\\Users\\nicol\\Documents\\KUL 2020-2021\\thesis\\code\\COBRAS_testing\\generate_clusterings\\clustering_task.py\"\u001b[0m, line \u001b[0;32m7\u001b[0m, in \u001b[0;35m<module>\u001b[0m\n    from before_clustering.generate_folds import get_train_indices_for_dataset\n",
      "\u001b[1;36m  File \u001b[1;32m\"C:\\Users\\nicol\\Documents\\KUL 2020-2021\\thesis\\code\\COBRAS_testing\\before_clustering\\generate_folds.py\"\u001b[1;36m, line \u001b[1;32m5\u001b[1;36m, in \u001b[1;35m<module>\u001b[1;36m\u001b[0m\n\u001b[1;33m    from config import FOLD_PATH\u001b[0m\n",
      "\u001b[1;36m  File \u001b[1;32m\"C:\\Users\\nicol\\Documents\\KUL 2020-2021\\thesis\\code\\COBRAS_testing\\config.py\"\u001b[1;36m, line \u001b[1;32m25\u001b[0m\n\u001b[1;33m    COSC_MATRICES_DIR = os.path.join(HOMEDIR, \"W_matrices)\u001b[0m\n\u001b[1;37m                                                          ^\u001b[0m\n\u001b[1;31mSyntaxError\u001b[0m\u001b[1;31m:\u001b[0m EOL while scanning string literal\n"
     ]
    }
   ],
   "source": [
    "import os\n",
    "import sys\n",
    "module_path = os.path.abspath(os.path.join('../COBRAS_dont_know'))\n",
    "module_path2 = os.path.abspath(os.path.join('../COBRAS_testing'))\n",
    "\n",
    "if module_path not in sys.path:\n",
    "    sys.path.append(module_path)\n",
    "    print(\"module path added\")\n",
    "    \n",
    "if module_path2 not in sys.path:\n",
    "    sys.path.append(module_path2)\n",
    "    print(\"module path2 added\")\n",
    "    \n",
    "from util.datasets import Dataset\n",
    "from heuristics.splitlevel_estimation_strategy import ConstantSplitLevelEstimationStrategy\n",
    "from cobras.querier.weak_querier import WeakQuerier\n",
    "from cobras.cobras import COBRAS\n"
   ]
  },
  {
   "cell_type": "code",
   "execution_count": 4,
   "metadata": {},
   "outputs": [],
   "source": [
    "data = Dataset(\"iris\")\n",
    "\n",
    "splitstrat = ConstantSplitLevelEstimationStrategy(1)\n",
    "clusterer = COBRAS(splitstrat)\n",
    "querier = WeakQuerier(data.data,data.target,1000,'local_nondet')"
   ]
  },
  {
   "cell_type": "code",
   "execution_count": null,
   "metadata": {},
   "outputs": [],
   "source": []
  }
 ],
 "metadata": {
  "kernelspec": {
   "display_name": "Python 3",
   "language": "python",
   "name": "python3"
  },
  "language_info": {
   "codemirror_mode": {
    "name": "ipython",
    "version": 3
   },
   "file_extension": ".py",
   "mimetype": "text/x-python",
   "name": "python",
   "nbconvert_exporter": "python",
   "pygments_lexer": "ipython3",
   "version": "3.8.3"
  }
 },
 "nbformat": 4,
 "nbformat_minor": 4
}
