{
 "cells": [
  {
   "cell_type": "code",
   "execution_count": 1,
   "metadata": {},
   "outputs": [
    {
     "name": "stdout",
     "output_type": "stream",
     "text": [
      "module path of dont_know added\n",
      "module path of testing added\n",
      "imports succeeded\n"
     ]
    }
   ],
   "source": [
    "import os\n",
    "import sys\n",
    "module_path_dont_know = os.path.abspath(os.path.join('../COBRAS_dont_know'))\n",
    "module_path_testing = os.path.abspath(os.path.join('../COBRAS_testing'))\n",
    "\n",
    "if module_path_dont_know not in sys.path:\n",
    "    sys.path.append(module_path_dont_know)\n",
    "    print(\"module path of dont_know added\")\n",
    "\n",
    "if module_path_testing not in sys.path:\n",
    "    sys.path.append(module_path_testing)\n",
    "    print(\"module path of testing added\")\n",
    "    \n",
    "from pathlib import Path\n",
    "from config import FOLD_RESULT_DIR, FIGURE_DIR\n",
    "from before_clustering.generate_folds import generate_folds_for_dataset\n",
    "\n",
    "from heuristics.splitlevel_estimation_strategy import ConstantSplitLevelEstimationStrategy\n",
    "from cobras.cobras import COBRAS\n",
    "from util.datasets import Dataset\n",
    "from cobras.querier.weak_querier import WeakQuerier\n",
    "from generate_clusterings.clustering_task import make_n_run_10_fold_cross_validation\n",
    "\n",
    "from cobras.super_instances.superinstance_select_representative import SuperInstance_select_representative_Builder\n",
    "\n",
    "from run_locally.run_tests import run_clustering_tasks_locally\n",
    "\n",
    "from evaluate_clusterings.calculate_aris import calculate_n_times_n_fold_aris_for_testnames\n",
    "from evaluate_clusterings.calculate_average_aris import calculate_average_aris\n",
    "from evaluate_clusterings.calculate_aligned_rank import calculate_and_write_aligned_rank\n",
    "\n",
    "from present_results.plot_aris import plot_average_ARI_per_dataset\n",
    "from present_results.plot_aris import plot_overall_average_ARI\n",
    "from present_results.plot_aligned_rank import plot_rank_comparison_file\n",
    "\n",
    "print(\"imports succeeded\")"
   ]
  },
  {
   "cell_type": "code",
   "execution_count": 2,
   "metadata": {},
   "outputs": [
    {
     "name": "stdout",
     "output_type": "stream",
     "text": [
      "done\n"
     ]
    }
   ],
   "source": [
    "if not Path(FOLD_RESULT_DIR).exists():\n",
    "    generate_folds_for_dataset()\n",
    "print(\"done\")"
   ]
  },
  {
   "cell_type": "code",
   "execution_count": 5,
   "metadata": {},
   "outputs": [
    {
     "name": "stdout",
     "output_type": "stream",
     "text": [
      "done\n"
     ]
    }
   ],
   "source": [
    "data = Dataset(\"iris\")\n",
    "clusterer_1 = COBRAS()\n",
    "querier = WeakQuerier(data.data,data.target,1000,'local_nondet')\n",
    "test_name_1 = \"standard_dont_know\"\n",
    "all_dataset_names = [\"iris\"]#, \"ecoli\"]#Dataset.get_standard_dataset_names()\n",
    "clustering_tasks = make_n_run_10_fold_cross_validation(test_name_1, clusterer_1,querier,all_dataset_names,3)\n",
    "print(\"done\")"
   ]
  },
  {
   "cell_type": "code",
   "execution_count": 6,
   "metadata": {},
   "outputs": [
    {
     "name": "stdout",
     "output_type": "stream",
     "text": [
      "done\n"
     ]
    }
   ],
   "source": [
    "clusterer_2 = COBRAS(SuperInstance_select_representative_Builder())\n",
    "test_name_2 = \"reuse_representatives\"\n",
    "clustering_tasks.extend(make_n_run_10_fold_cross_validation(test_name_2, clusterer_2, querier, all_dataset_names, 3))\n",
    "print(\"done\")"
   ]
  },
  {
   "cell_type": "code",
   "execution_count": 7,
   "metadata": {},
   "outputs": [
    {
     "name": "stderr",
     "output_type": "stream",
     "text": [
      "100%|██████████| 30/30 [04:30<00:00,  9.02s/it]"
     ]
    },
    {
     "name": "stdout",
     "output_type": "stream",
     "text": [
      "done\n"
     ]
    },
    {
     "name": "stderr",
     "output_type": "stream",
     "text": [
      "\n"
     ]
    }
   ],
   "source": [
    "run_clustering_tasks_locally(clustering_tasks,1)\n",
    "print(\"done\")"
   ]
  },
  {
   "cell_type": "code",
   "execution_count": 8,
   "metadata": {},
   "outputs": [
    {
     "name": "stderr",
     "output_type": "stream",
     "text": [
      "\r",
      "  0%|          | 0/30 [00:00<?, ?it/s]"
     ]
    },
    {
     "name": "stdout",
     "output_type": "stream",
     "text": [
      "Calculating ARIs for n-times n-fold:  ['standard_dont_know', 'reuse_representatives']\n",
      "running with 4 cores\n"
     ]
    },
    {
     "name": "stderr",
     "output_type": "stream",
     "text": [
      "100%|██████████| 30/30 [00:03<00:00,  8.04it/s]\n",
      "  0%|          | 0/2 [00:00<?, ?it/s]"
     ]
    },
    {
     "name": "stdout",
     "output_type": "stream",
     "text": [
      "Calculating average ARIs\n",
      "more clusterings (242) than querybudget (100), correcting by removing excess clusterings standard_dont_know\n",
      "more clusterings (223) than querybudget (100), correcting by removing excess clusterings standard_dont_know\n",
      "more clusterings (232) than querybudget (100), correcting by removing excess clusterings standard_dont_know\n",
      "more clusterings (232) than querybudget (100), correcting by removing excess clusterings standard_dont_know\n",
      "more clusterings (208) than querybudget (100), correcting by removing excess clusterings standard_dont_know\n",
      "more clusterings (224) than querybudget (100), correcting by removing excess clusterings standard_dont_know\n",
      "more clusterings (222) than querybudget (100), correcting by removing excess clusterings standard_dont_know\n",
      "more clusterings (233) than querybudget (100), correcting by removing excess clusterings standard_dont_know\n",
      "more clusterings (229) than querybudget (100), correcting by removing excess clusterings standard_dont_know\n",
      "more clusterings (235) than querybudget (100), correcting by removing excess clusterings standard_dont_know\n",
      "more clusterings (226) than querybudget (100), correcting by removing excess clusterings standard_dont_know\n",
      "more clusterings (210) than querybudget (100), correcting by removing excess clusterings standard_dont_know\n",
      "more clusterings (217) than querybudget (100), correcting by removing excess clusterings standard_dont_know\n",
      "more clusterings (246) than querybudget (100), correcting by removing excess clusterings standard_dont_know\n",
      "more clusterings (248) than querybudget (100), correcting by removing excess clusterings standard_dont_know\n",
      "more clusterings (228) than querybudget (100), correcting by removing excess clusterings standard_dont_know\n",
      "more clusterings (235) than querybudget (100), correcting by removing excess clusterings standard_dont_know\n",
      "more clusterings (280) than querybudget (100), correcting by removing excess clusterings standard_dont_know\n",
      "more clusterings (215) than querybudget (100), correcting by removing excess clusterings standard_dont_know\n",
      "more clusterings (243) than querybudget (100), correcting by removing excess clusterings standard_dont_know\n",
      "more clusterings (193) than querybudget (100), correcting by removing excess clusterings standard_dont_know\n",
      "more clusterings (268) than querybudget (100), correcting by removing excess clusterings standard_dont_know\n",
      "more clusterings (250) than querybudget (100), correcting by removing excess clusterings standard_dont_know\n",
      "more clusterings (253) than querybudget (100), correcting by removing excess clusterings standard_dont_know\n",
      "more clusterings (212) than querybudget (100), correcting by removing excess clusterings standard_dont_know\n",
      "more clusterings (242) than querybudget (100), correcting by removing excess clusterings standard_dont_know\n",
      "more clusterings (252) than querybudget (100), correcting by removing excess clusterings standard_dont_know\n",
      "more clusterings (223) than querybudget (100), correcting by removing excess clusterings standard_dont_know\n",
      "more clusterings (268) than querybudget (100), correcting by removing excess clusterings standard_dont_know\n",
      "more clusterings (269) than querybudget (100), correcting by removing excess clusterings standard_dont_know\n"
     ]
    },
    {
     "name": "stderr",
     "output_type": "stream",
     "text": [
      "100%|██████████| 2/2 [00:00<00:00,  8.63it/s]"
     ]
    },
    {
     "name": "stdout",
     "output_type": "stream",
     "text": [
      "more clusterings (205) than querybudget (100), correcting by removing excess clusterings reuse_representatives\n",
      "more clusterings (227) than querybudget (100), correcting by removing excess clusterings reuse_representatives\n",
      "more clusterings (357) than querybudget (100), correcting by removing excess clusterings reuse_representatives\n",
      "more clusterings (239) than querybudget (100), correcting by removing excess clusterings reuse_representatives\n",
      "more clusterings (194) than querybudget (100), correcting by removing excess clusterings reuse_representatives\n",
      "more clusterings (200) than querybudget (100), correcting by removing excess clusterings reuse_representatives\n",
      "more clusterings (259) than querybudget (100), correcting by removing excess clusterings reuse_representatives\n",
      "more clusterings (198) than querybudget (100), correcting by removing excess clusterings reuse_representatives\n",
      "more clusterings (248) than querybudget (100), correcting by removing excess clusterings reuse_representatives\n",
      "more clusterings (240) than querybudget (100), correcting by removing excess clusterings reuse_representatives\n",
      "more clusterings (213) than querybudget (100), correcting by removing excess clusterings reuse_representatives\n",
      "more clusterings (203) than querybudget (100), correcting by removing excess clusterings reuse_representatives\n",
      "more clusterings (210) than querybudget (100), correcting by removing excess clusterings reuse_representatives\n",
      "more clusterings (296) than querybudget (100), correcting by removing excess clusterings reuse_representatives\n",
      "more clusterings (257) than querybudget (100), correcting by removing excess clusterings reuse_representatives\n",
      "more clusterings (232) than querybudget (100), correcting by removing excess clusterings reuse_representatives\n",
      "more clusterings (253) than querybudget (100), correcting by removing excess clusterings reuse_representatives\n",
      "more clusterings (215) than querybudget (100), correcting by removing excess clusterings reuse_representatives\n",
      "more clusterings (220) than querybudget (100), correcting by removing excess clusterings reuse_representatives\n",
      "more clusterings (249) than querybudget (100), correcting by removing excess clusterings reuse_representatives\n",
      "more clusterings (284) than querybudget (100), correcting by removing excess clusterings reuse_representatives\n",
      "more clusterings (208) than querybudget (100), correcting by removing excess clusterings reuse_representatives\n",
      "more clusterings (329) than querybudget (100), correcting by removing excess clusterings reuse_representatives\n",
      "more clusterings (314) than querybudget (100), correcting by removing excess clusterings reuse_representatives\n",
      "more clusterings (198) than querybudget (100), correcting by removing excess clusterings reuse_representatives\n",
      "more clusterings (226) than querybudget (100), correcting by removing excess clusterings reuse_representatives\n",
      "more clusterings (237) than querybudget (100), correcting by removing excess clusterings reuse_representatives\n",
      "more clusterings (207) than querybudget (100), correcting by removing excess clusterings reuse_representatives\n",
      "more clusterings (202) than querybudget (100), correcting by removing excess clusterings reuse_representatives\n",
      "more clusterings (208) than querybudget (100), correcting by removing excess clusterings reuse_representatives\n",
      "calculating average rank\n"
     ]
    },
    {
     "name": "stderr",
     "output_type": "stream",
     "text": [
      "\n"
     ]
    },
    {
     "name": "stdout",
     "output_type": "stream",
     "text": [
      "all resulting plots are in \\Users\\nicol\\Documents\\KUL 2020-2021\\thesis\\code\\results\\results\\figures\\reuse_representatives\n"
     ]
    }
   ],
   "source": [
    "test_names = [test_name_1, test_name_2]\n",
    "comparison_name = 'reuse_representatives'\n",
    "nb_of_cores = 4\n",
    "query_budget = 100\n",
    "\n",
    "calculate_n_times_n_fold_aris_for_testnames(test_names, nb_cores=nb_of_cores)\n",
    "calculate_average_aris(test_names, query_budget)\n",
    "calculate_and_write_aligned_rank(test_names,comparison_name)\n",
    "\n",
    "plot_average_ARI_per_dataset(comparison_name, test_names, test_names)\n",
    "plot_overall_average_ARI(comparison_name, test_names, test_names)\n",
    "plot_rank_comparison_file(comparison_name, test_names, test_names)\n",
    "\n",
    "print(f\"all resulting plots are in {Path(FIGURE_DIR)/comparison_name}\")"
   ]
  },
  {
   "cell_type": "code",
   "execution_count": null,
   "metadata": {},
   "outputs": [],
   "source": []
  }
 ],
 "metadata": {
  "kernelspec": {
   "display_name": "Python 3",
   "language": "python",
   "name": "python3"
  },
  "language_info": {
   "codemirror_mode": {
    "name": "ipython",
    "version": 3
   },
   "file_extension": ".py",
   "mimetype": "text/x-python",
   "name": "python",
   "nbconvert_exporter": "python",
   "pygments_lexer": "ipython3",
   "version": "3.8.3"
  }
 },
 "nbformat": 4,
 "nbformat_minor": 4
}
