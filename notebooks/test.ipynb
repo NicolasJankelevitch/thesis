{
 "cells": [
  {
   "cell_type": "code",
   "execution_count": 1,
   "metadata": {},
   "outputs": [
    {
     "name": "stdout",
     "output_type": "stream",
     "text": [
      "module path of dont_know added\n",
      "module path of testing added\n",
      "imports succeeded\n"
     ]
    }
   ],
   "source": [
    "import os\n",
    "import sys\n",
    "module_path_dont_know = os.path.abspath(os.path.join('../COBRAS_dont_know'))\n",
    "module_path_testing = os.path.abspath(os.path.join('../COBRAS_testing'))\n",
    "\n",
    "if module_path_dont_know not in sys.path:\n",
    "    sys.path.append(module_path_dont_know)\n",
    "    print(\"module path of dont_know added\")\n",
    "\n",
    "if module_path_testing not in sys.path:\n",
    "    sys.path.append(module_path_testing)\n",
    "    print(\"module path of testing added\")\n",
    "    \n",
    "from pathlib import Path\n",
    "from config import FOLD_RESULT_DIR, FIGURE_DIR\n",
    "from before_clustering.generate_folds import generate_folds_for_dataset\n",
    "\n",
    "from heuristics.splitlevel_estimation_strategy import *\n",
    "from heuristics.select_super_instance_heuristics import *\n",
    "from cobras.cobras import COBRAS\n",
    "from util.datasets import Dataset\n",
    "from cobras.querier.weak_querier import WeakQuerier\n",
    "from cobras.querier.labelquerier import LabelQuerier\n",
    "from clustering_algorithms.kmeans_fixed_representative import KmeansFixedRepresentative\n",
    "from generate_clusterings.clustering_task import make_n_run_10_fold_cross_validation\n",
    "from cobras.super_instances.superinstance_select_representative import SuperInstance_select_representative_Builder\n",
    "\n",
    "from run_locally.run_tests import run_clustering_tasks_locally\n",
    "\n",
    "from evaluate_clusterings.calculate_aris import calculate_n_times_n_fold_aris_for_testnames\n",
    "from evaluate_clusterings.calculate_average_aris import calculate_average_aris\n",
    "from evaluate_clusterings.calculate_aligned_rank import calculate_and_write_aligned_rank\n",
    "\n",
    "from present_results.plot_aris import plot_average_ARI_per_dataset\n",
    "from present_results.plot_aris import plot_overall_average_ARI\n",
    "from present_results.plot_aligned_rank import plot_rank_comparison_file\n",
    "\n",
    "print(\"imports succeeded\")"
   ]
  },
  {
   "cell_type": "code",
   "execution_count": 2,
   "metadata": {},
   "outputs": [
    {
     "name": "stdout",
     "output_type": "stream",
     "text": [
      "making folds for dataset  breast-cancer-wisconsin\n",
      "making folds for dataset  column_2C\n",
      "making folds for dataset  dermatology\n",
      "making folds for dataset  ecoli\n"
     ]
    },
    {
     "name": "stderr",
     "output_type": "stream",
     "text": [
      "C:\\Users\\nicol\\anaconda3\\lib\\site-packages\\sklearn\\model_selection\\_split.py:670: UserWarning: The least populated class in y has only 2 members, which is less than n_splits=10.\n",
      "  warnings.warn((\"The least populated class in y has only %d\"\n",
      "C:\\Users\\nicol\\anaconda3\\lib\\site-packages\\sklearn\\model_selection\\_split.py:670: UserWarning: The least populated class in y has only 2 members, which is less than n_splits=10.\n",
      "  warnings.warn((\"The least populated class in y has only %d\"\n",
      "C:\\Users\\nicol\\anaconda3\\lib\\site-packages\\sklearn\\model_selection\\_split.py:670: UserWarning: The least populated class in y has only 2 members, which is less than n_splits=10.\n",
      "  warnings.warn((\"The least populated class in y has only %d\"\n",
      "C:\\Users\\nicol\\anaconda3\\lib\\site-packages\\sklearn\\model_selection\\_split.py:670: UserWarning: The least populated class in y has only 2 members, which is less than n_splits=10.\n",
      "  warnings.warn((\"The least populated class in y has only %d\"\n",
      "C:\\Users\\nicol\\anaconda3\\lib\\site-packages\\sklearn\\model_selection\\_split.py:670: UserWarning: The least populated class in y has only 2 members, which is less than n_splits=10.\n",
      "  warnings.warn((\"The least populated class in y has only %d\"\n",
      "C:\\Users\\nicol\\anaconda3\\lib\\site-packages\\sklearn\\model_selection\\_split.py:670: UserWarning: The least populated class in y has only 2 members, which is less than n_splits=10.\n",
      "  warnings.warn((\"The least populated class in y has only %d\"\n",
      "C:\\Users\\nicol\\anaconda3\\lib\\site-packages\\sklearn\\model_selection\\_split.py:670: UserWarning: The least populated class in y has only 2 members, which is less than n_splits=10.\n",
      "  warnings.warn((\"The least populated class in y has only %d\"\n",
      "C:\\Users\\nicol\\anaconda3\\lib\\site-packages\\sklearn\\model_selection\\_split.py:670: UserWarning: The least populated class in y has only 2 members, which is less than n_splits=10.\n",
      "  warnings.warn((\"The least populated class in y has only %d\"\n",
      "C:\\Users\\nicol\\anaconda3\\lib\\site-packages\\sklearn\\model_selection\\_split.py:670: UserWarning: The least populated class in y has only 2 members, which is less than n_splits=10.\n",
      "  warnings.warn((\"The least populated class in y has only %d\"\n",
      "C:\\Users\\nicol\\anaconda3\\lib\\site-packages\\sklearn\\model_selection\\_split.py:670: UserWarning: The least populated class in y has only 2 members, which is less than n_splits=10.\n",
      "  warnings.warn((\"The least populated class in y has only %d\"\n"
     ]
    },
    {
     "name": "stdout",
     "output_type": "stream",
     "text": [
      "making folds for dataset  faces_expression_imagenet\n",
      "making folds for dataset  faces_eyes_imagenet\n",
      "making folds for dataset  faces_identity_imagenet\n",
      "making folds for dataset  faces_pose_imagenet\n",
      "making folds for dataset  glass\n"
     ]
    },
    {
     "name": "stderr",
     "output_type": "stream",
     "text": [
      "C:\\Users\\nicol\\anaconda3\\lib\\site-packages\\sklearn\\model_selection\\_split.py:670: UserWarning: The least populated class in y has only 9 members, which is less than n_splits=10.\n",
      "  warnings.warn((\"The least populated class in y has only %d\"\n",
      "C:\\Users\\nicol\\anaconda3\\lib\\site-packages\\sklearn\\model_selection\\_split.py:670: UserWarning: The least populated class in y has only 9 members, which is less than n_splits=10.\n",
      "  warnings.warn((\"The least populated class in y has only %d\"\n",
      "C:\\Users\\nicol\\anaconda3\\lib\\site-packages\\sklearn\\model_selection\\_split.py:670: UserWarning: The least populated class in y has only 9 members, which is less than n_splits=10.\n",
      "  warnings.warn((\"The least populated class in y has only %d\"\n",
      "C:\\Users\\nicol\\anaconda3\\lib\\site-packages\\sklearn\\model_selection\\_split.py:670: UserWarning: The least populated class in y has only 9 members, which is less than n_splits=10.\n",
      "  warnings.warn((\"The least populated class in y has only %d\"\n",
      "C:\\Users\\nicol\\anaconda3\\lib\\site-packages\\sklearn\\model_selection\\_split.py:670: UserWarning: The least populated class in y has only 9 members, which is less than n_splits=10.\n",
      "  warnings.warn((\"The least populated class in y has only %d\"\n",
      "C:\\Users\\nicol\\anaconda3\\lib\\site-packages\\sklearn\\model_selection\\_split.py:670: UserWarning: The least populated class in y has only 9 members, which is less than n_splits=10.\n",
      "  warnings.warn((\"The least populated class in y has only %d\"\n",
      "C:\\Users\\nicol\\anaconda3\\lib\\site-packages\\sklearn\\model_selection\\_split.py:670: UserWarning: The least populated class in y has only 9 members, which is less than n_splits=10.\n",
      "  warnings.warn((\"The least populated class in y has only %d\"\n",
      "C:\\Users\\nicol\\anaconda3\\lib\\site-packages\\sklearn\\model_selection\\_split.py:670: UserWarning: The least populated class in y has only 9 members, which is less than n_splits=10.\n",
      "  warnings.warn((\"The least populated class in y has only %d\"\n",
      "C:\\Users\\nicol\\anaconda3\\lib\\site-packages\\sklearn\\model_selection\\_split.py:670: UserWarning: The least populated class in y has only 9 members, which is less than n_splits=10.\n",
      "  warnings.warn((\"The least populated class in y has only %d\"\n",
      "C:\\Users\\nicol\\anaconda3\\lib\\site-packages\\sklearn\\model_selection\\_split.py:670: UserWarning: The least populated class in y has only 9 members, which is less than n_splits=10.\n",
      "  warnings.warn((\"The least populated class in y has only %d\"\n"
     ]
    },
    {
     "name": "stdout",
     "output_type": "stream",
     "text": [
      "making folds for dataset  hepatitis\n",
      "making folds for dataset  ionosphere\n",
      "making folds for dataset  iris\n",
      "making folds for dataset  newsgroups_diff3\n",
      "making folds for dataset  newsgroups_sim3\n",
      "making folds for dataset  optdigits389_full\n",
      "making folds for dataset  parkinsons\n",
      "making folds for dataset  segmentation\n",
      "making folds for dataset  segmentation_training_only\n",
      "making folds for dataset  sonar\n",
      "making folds for dataset  spambase\n",
      "making folds for dataset  wine\n",
      "making folds for dataset  yeast\n"
     ]
    },
    {
     "name": "stderr",
     "output_type": "stream",
     "text": [
      "C:\\Users\\nicol\\anaconda3\\lib\\site-packages\\sklearn\\model_selection\\_split.py:670: UserWarning: The least populated class in y has only 5 members, which is less than n_splits=10.\n",
      "  warnings.warn((\"The least populated class in y has only %d\"\n",
      "C:\\Users\\nicol\\anaconda3\\lib\\site-packages\\sklearn\\model_selection\\_split.py:670: UserWarning: The least populated class in y has only 5 members, which is less than n_splits=10.\n",
      "  warnings.warn((\"The least populated class in y has only %d\"\n",
      "C:\\Users\\nicol\\anaconda3\\lib\\site-packages\\sklearn\\model_selection\\_split.py:670: UserWarning: The least populated class in y has only 5 members, which is less than n_splits=10.\n",
      "  warnings.warn((\"The least populated class in y has only %d\"\n",
      "C:\\Users\\nicol\\anaconda3\\lib\\site-packages\\sklearn\\model_selection\\_split.py:670: UserWarning: The least populated class in y has only 5 members, which is less than n_splits=10.\n",
      "  warnings.warn((\"The least populated class in y has only %d\"\n",
      "C:\\Users\\nicol\\anaconda3\\lib\\site-packages\\sklearn\\model_selection\\_split.py:670: UserWarning: The least populated class in y has only 5 members, which is less than n_splits=10.\n",
      "  warnings.warn((\"The least populated class in y has only %d\"\n",
      "C:\\Users\\nicol\\anaconda3\\lib\\site-packages\\sklearn\\model_selection\\_split.py:670: UserWarning: The least populated class in y has only 5 members, which is less than n_splits=10.\n",
      "  warnings.warn((\"The least populated class in y has only %d\"\n",
      "C:\\Users\\nicol\\anaconda3\\lib\\site-packages\\sklearn\\model_selection\\_split.py:670: UserWarning: The least populated class in y has only 5 members, which is less than n_splits=10.\n",
      "  warnings.warn((\"The least populated class in y has only %d\"\n",
      "C:\\Users\\nicol\\anaconda3\\lib\\site-packages\\sklearn\\model_selection\\_split.py:670: UserWarning: The least populated class in y has only 5 members, which is less than n_splits=10.\n",
      "  warnings.warn((\"The least populated class in y has only %d\"\n",
      "C:\\Users\\nicol\\anaconda3\\lib\\site-packages\\sklearn\\model_selection\\_split.py:670: UserWarning: The least populated class in y has only 5 members, which is less than n_splits=10.\n",
      "  warnings.warn((\"The least populated class in y has only %d\"\n"
     ]
    },
    {
     "name": "stdout",
     "output_type": "stream",
     "text": [
      "done\n"
     ]
    },
    {
     "name": "stderr",
     "output_type": "stream",
     "text": [
      "C:\\Users\\nicol\\anaconda3\\lib\\site-packages\\sklearn\\model_selection\\_split.py:670: UserWarning: The least populated class in y has only 5 members, which is less than n_splits=10.\n",
      "  warnings.warn((\"The least populated class in y has only %d\"\n"
     ]
    }
   ],
   "source": [
    "if not Path(FOLD_RESULT_DIR).exists():\n",
    "    generate_folds_for_dataset()\n",
    "print(\"done\")"
   ]
  },
  {
   "cell_type": "code",
   "execution_count": 3,
   "metadata": {},
   "outputs": [
    {
     "name": "stdout",
     "output_type": "stream",
     "text": [
      "done\n"
     ]
    }
   ],
   "source": [
    "#data = Dataset(\"iris\")\n",
    "clusterer_1 = COBRAS(cluster_algo= KmeansFixedRepresentative())\n",
    "querier = LabelQuerier(None,1000)\n",
    "#querier = WeakQuerier(data.data,data.target,1000,'local_nondet')\n",
    "#querier = WeakQuerier(None, None ,1000,'local_nondet')\n",
    "test_name_1 = \"test_fixed_k-means\"\n",
    "all_dataset_names = [\"iris\"]#Dataset.get_standard_dataset_names()#\n",
    "clustering_tasks = make_n_run_10_fold_cross_validation(test_name_1, clusterer_1,querier,all_dataset_names,10)\n",
    "print(\"done\")"
   ]
  },
  {
   "cell_type": "code",
   "execution_count": 4,
   "metadata": {
    "collapsed": true
   },
   "outputs": [
    {
     "name": "stdout",
     "output_type": "stream",
     "text": [
      "done\n"
     ]
    }
   ],
   "source": [
    "clusterer_2 = COBRAS(cluster_algo=KmeansFixedRepresentative(), splitlevel_strategy=StandardSplitLevelEstimationStrategyAlwayskmeans(SelectMostInstancesHeuristic()))\n",
    "test_name_2 = \"test_Basic_k-Means\"\n",
    "clustering_tasks.extend(make_n_run_10_fold_cross_validation(test_name_2, clusterer_2, querier, all_dataset_names, 10))\n",
    "print(\"done\")"
   ]
  },
  {
   "cell_type": "code",
   "execution_count": 5,
   "metadata": {},
   "outputs": [
    {
     "name": "stderr",
     "output_type": "stream",
     "text": [
      "100%|██████████| 200/200 [01:34<00:00,  2.11it/s]"
     ]
    },
    {
     "name": "stdout",
     "output_type": "stream",
     "text": [
      "done\n"
     ]
    },
    {
     "name": "stderr",
     "output_type": "stream",
     "text": [
      "\n"
     ]
    }
   ],
   "source": [
    "run_clustering_tasks_locally(clustering_tasks,4)\n",
    "print(\"done\")"
   ]
  },
  {
   "cell_type": "code",
   "execution_count": 6,
   "metadata": {},
   "outputs": [
    {
     "name": "stderr",
     "output_type": "stream",
     "text": [
      "\r",
      "  0%|          | 0/200 [00:00<?, ?it/s]"
     ]
    },
    {
     "name": "stdout",
     "output_type": "stream",
     "text": [
      "Calculating ARIs for n-times n-fold:  ['test_fixed_k-means', 'test_Basic_k-Means']\n",
      "running with 4 cores\n"
     ]
    },
    {
     "name": "stderr",
     "output_type": "stream",
     "text": [
      "100%|██████████| 200/200 [00:08<00:00, 24.64it/s]\n",
      "  0%|          | 0/2 [00:00<?, ?it/s]"
     ]
    },
    {
     "name": "stdout",
     "output_type": "stream",
     "text": [
      "Calculating average ARIs\n"
     ]
    },
    {
     "name": "stderr",
     "output_type": "stream",
     "text": [
      "\r",
      " 50%|█████     | 1/2 [00:00<00:00,  1.91it/s]"
     ]
    },
    {
     "name": "stdout",
     "output_type": "stream",
     "text": [
      "less clusterings (183) than querybudget (250), correcting by repeating last ARItest_fixed_k-means\n",
      "less clusterings (144) than querybudget (250), correcting by repeating last ARItest_fixed_k-means\n",
      "less clusterings (94) than querybudget (250), correcting by repeating last ARItest_fixed_k-means\n",
      "less clusterings (168) than querybudget (250), correcting by repeating last ARItest_fixed_k-means\n",
      "less clusterings (123) than querybudget (250), correcting by repeating last ARItest_fixed_k-means\n",
      "less clusterings (160) than querybudget (250), correcting by repeating last ARItest_fixed_k-means\n",
      "less clusterings (101) than querybudget (250), correcting by repeating last ARItest_fixed_k-means\n",
      "less clusterings (201) than querybudget (250), correcting by repeating last ARItest_fixed_k-means\n",
      "less clusterings (174) than querybudget (250), correcting by repeating last ARItest_fixed_k-means\n",
      "less clusterings (194) than querybudget (250), correcting by repeating last ARItest_fixed_k-means\n",
      "less clusterings (155) than querybudget (250), correcting by repeating last ARItest_fixed_k-means\n",
      "less clusterings (206) than querybudget (250), correcting by repeating last ARItest_fixed_k-means\n",
      "less clusterings (67) than querybudget (250), correcting by repeating last ARItest_fixed_k-means\n",
      "less clusterings (171) than querybudget (250), correcting by repeating last ARItest_fixed_k-means\n",
      "less clusterings (170) than querybudget (250), correcting by repeating last ARItest_fixed_k-means\n",
      "less clusterings (185) than querybudget (250), correcting by repeating last ARItest_fixed_k-means\n",
      "less clusterings (135) than querybudget (250), correcting by repeating last ARItest_fixed_k-means\n",
      "less clusterings (165) than querybudget (250), correcting by repeating last ARItest_fixed_k-means\n",
      "less clusterings (125) than querybudget (250), correcting by repeating last ARItest_fixed_k-means\n",
      "less clusterings (171) than querybudget (250), correcting by repeating last ARItest_fixed_k-means\n",
      "less clusterings (154) than querybudget (250), correcting by repeating last ARItest_fixed_k-means\n",
      "less clusterings (176) than querybudget (250), correcting by repeating last ARItest_fixed_k-means\n",
      "less clusterings (197) than querybudget (250), correcting by repeating last ARItest_fixed_k-means\n",
      "less clusterings (195) than querybudget (250), correcting by repeating last ARItest_fixed_k-means\n",
      "less clusterings (126) than querybudget (250), correcting by repeating last ARItest_fixed_k-means\n",
      "less clusterings (200) than querybudget (250), correcting by repeating last ARItest_fixed_k-means\n",
      "less clusterings (118) than querybudget (250), correcting by repeating last ARItest_fixed_k-means\n",
      "less clusterings (210) than querybudget (250), correcting by repeating last ARItest_fixed_k-means\n",
      "less clusterings (142) than querybudget (250), correcting by repeating last ARItest_fixed_k-means\n",
      "less clusterings (198) than querybudget (250), correcting by repeating last ARItest_fixed_k-means\n",
      "less clusterings (168) than querybudget (250), correcting by repeating last ARItest_fixed_k-means\n",
      "less clusterings (139) than querybudget (250), correcting by repeating last ARItest_fixed_k-means\n",
      "less clusterings (212) than querybudget (250), correcting by repeating last ARItest_fixed_k-means\n",
      "less clusterings (172) than querybudget (250), correcting by repeating last ARItest_fixed_k-means\n",
      "less clusterings (139) than querybudget (250), correcting by repeating last ARItest_fixed_k-means\n",
      "less clusterings (171) than querybudget (250), correcting by repeating last ARItest_fixed_k-means\n",
      "less clusterings (130) than querybudget (250), correcting by repeating last ARItest_fixed_k-means\n",
      "less clusterings (157) than querybudget (250), correcting by repeating last ARItest_fixed_k-means\n",
      "less clusterings (66) than querybudget (250), correcting by repeating last ARItest_fixed_k-means\n",
      "less clusterings (204) than querybudget (250), correcting by repeating last ARItest_fixed_k-means\n",
      "less clusterings (86) than querybudget (250), correcting by repeating last ARItest_fixed_k-means\n",
      "less clusterings (18) than querybudget (250), correcting by repeating last ARItest_fixed_k-means\n",
      "less clusterings (188) than querybudget (250), correcting by repeating last ARItest_fixed_k-means\n",
      "less clusterings (205) than querybudget (250), correcting by repeating last ARItest_fixed_k-means\n",
      "less clusterings (189) than querybudget (250), correcting by repeating last ARItest_fixed_k-means\n",
      "less clusterings (154) than querybudget (250), correcting by repeating last ARItest_fixed_k-means\n",
      "less clusterings (161) than querybudget (250), correcting by repeating last ARItest_fixed_k-means\n",
      "less clusterings (208) than querybudget (250), correcting by repeating last ARItest_fixed_k-means\n",
      "less clusterings (194) than querybudget (250), correcting by repeating last ARItest_fixed_k-means\n",
      "less clusterings (176) than querybudget (250), correcting by repeating last ARItest_fixed_k-means\n",
      "less clusterings (107) than querybudget (250), correcting by repeating last ARItest_fixed_k-means\n",
      "less clusterings (63) than querybudget (250), correcting by repeating last ARItest_fixed_k-means\n",
      "less clusterings (21) than querybudget (250), correcting by repeating last ARItest_fixed_k-means\n",
      "less clusterings (182) than querybudget (250), correcting by repeating last ARItest_fixed_k-means\n",
      "less clusterings (184) than querybudget (250), correcting by repeating last ARItest_fixed_k-means\n",
      "less clusterings (192) than querybudget (250), correcting by repeating last ARItest_fixed_k-means\n",
      "less clusterings (128) than querybudget (250), correcting by repeating last ARItest_fixed_k-means\n",
      "less clusterings (191) than querybudget (250), correcting by repeating last ARItest_fixed_k-means\n",
      "less clusterings (12) than querybudget (250), correcting by repeating last ARItest_fixed_k-means\n",
      "less clusterings (197) than querybudget (250), correcting by repeating last ARItest_fixed_k-means\n",
      "less clusterings (185) than querybudget (250), correcting by repeating last ARItest_fixed_k-means\n",
      "less clusterings (176) than querybudget (250), correcting by repeating last ARItest_fixed_k-means\n",
      "less clusterings (41) than querybudget (250), correcting by repeating last ARItest_fixed_k-means\n",
      "less clusterings (184) than querybudget (250), correcting by repeating last ARItest_fixed_k-means\n",
      "less clusterings (197) than querybudget (250), correcting by repeating last ARItest_fixed_k-means\n",
      "less clusterings (201) than querybudget (250), correcting by repeating last ARItest_fixed_k-means\n",
      "less clusterings (142) than querybudget (250), correcting by repeating last ARItest_fixed_k-means\n",
      "less clusterings (188) than querybudget (250), correcting by repeating last ARItest_fixed_k-means\n",
      "less clusterings (177) than querybudget (250), correcting by repeating last ARItest_fixed_k-means\n",
      "less clusterings (155) than querybudget (250), correcting by repeating last ARItest_fixed_k-means\n",
      "less clusterings (144) than querybudget (250), correcting by repeating last ARItest_fixed_k-means\n",
      "less clusterings (89) than querybudget (250), correcting by repeating last ARItest_fixed_k-means\n",
      "less clusterings (172) than querybudget (250), correcting by repeating last ARItest_fixed_k-means\n",
      "less clusterings (156) than querybudget (250), correcting by repeating last ARItest_fixed_k-means\n",
      "less clusterings (146) than querybudget (250), correcting by repeating last ARItest_fixed_k-means\n",
      "less clusterings (128) than querybudget (250), correcting by repeating last ARItest_fixed_k-means\n",
      "less clusterings (87) than querybudget (250), correcting by repeating last ARItest_fixed_k-means\n",
      "less clusterings (3) than querybudget (250), correcting by repeating last ARItest_fixed_k-means\n",
      "less clusterings (155) than querybudget (250), correcting by repeating last ARItest_fixed_k-means\n",
      "less clusterings (127) than querybudget (250), correcting by repeating last ARItest_fixed_k-means\n",
      "less clusterings (158) than querybudget (250), correcting by repeating last ARItest_fixed_k-means\n",
      "less clusterings (201) than querybudget (250), correcting by repeating last ARItest_fixed_k-means\n",
      "less clusterings (178) than querybudget (250), correcting by repeating last ARItest_fixed_k-means\n",
      "less clusterings (190) than querybudget (250), correcting by repeating last ARItest_fixed_k-means\n",
      "less clusterings (16) than querybudget (250), correcting by repeating last ARItest_fixed_k-means\n",
      "less clusterings (180) than querybudget (250), correcting by repeating last ARItest_fixed_k-means\n",
      "less clusterings (185) than querybudget (250), correcting by repeating last ARItest_fixed_k-means\n",
      "less clusterings (129) than querybudget (250), correcting by repeating last ARItest_fixed_k-means\n",
      "less clusterings (82) than querybudget (250), correcting by repeating last ARItest_fixed_k-means\n",
      "less clusterings (164) than querybudget (250), correcting by repeating last ARItest_fixed_k-means\n",
      "less clusterings (193) than querybudget (250), correcting by repeating last ARItest_fixed_k-means\n",
      "less clusterings (119) than querybudget (250), correcting by repeating last ARItest_fixed_k-means\n",
      "less clusterings (181) than querybudget (250), correcting by repeating last ARItest_fixed_k-means\n",
      "less clusterings (180) than querybudget (250), correcting by repeating last ARItest_fixed_k-means\n",
      "less clusterings (162) than querybudget (250), correcting by repeating last ARItest_fixed_k-means\n",
      "less clusterings (57) than querybudget (250), correcting by repeating last ARItest_fixed_k-means\n",
      "less clusterings (203) than querybudget (250), correcting by repeating last ARItest_fixed_k-means\n",
      "less clusterings (187) than querybudget (250), correcting by repeating last ARItest_fixed_k-means\n",
      "less clusterings (198) than querybudget (250), correcting by repeating last ARItest_fixed_k-means\n",
      "less clusterings (34) than querybudget (250), correcting by repeating last ARItest_fixed_k-means\n"
     ]
    },
    {
     "name": "stderr",
     "output_type": "stream",
     "text": [
      "100%|██████████| 2/2 [00:01<00:00,  1.91it/s]"
     ]
    },
    {
     "name": "stdout",
     "output_type": "stream",
     "text": [
      "less clusterings (184) than querybudget (250), correcting by repeating last ARItest_Basic_k-Means\n",
      "less clusterings (77) than querybudget (250), correcting by repeating last ARItest_Basic_k-Means\n",
      "less clusterings (198) than querybudget (250), correcting by repeating last ARItest_Basic_k-Means\n",
      "less clusterings (158) than querybudget (250), correcting by repeating last ARItest_Basic_k-Means\n",
      "less clusterings (39) than querybudget (250), correcting by repeating last ARItest_Basic_k-Means\n",
      "less clusterings (193) than querybudget (250), correcting by repeating last ARItest_Basic_k-Means\n",
      "less clusterings (5) than querybudget (250), correcting by repeating last ARItest_Basic_k-Means\n",
      "less clusterings (197) than querybudget (250), correcting by repeating last ARItest_Basic_k-Means\n",
      "less clusterings (127) than querybudget (250), correcting by repeating last ARItest_Basic_k-Means\n",
      "less clusterings (211) than querybudget (250), correcting by repeating last ARItest_Basic_k-Means\n",
      "less clusterings (47) than querybudget (250), correcting by repeating last ARItest_Basic_k-Means\n",
      "less clusterings (80) than querybudget (250), correcting by repeating last ARItest_Basic_k-Means\n",
      "less clusterings (171) than querybudget (250), correcting by repeating last ARItest_Basic_k-Means\n",
      "less clusterings (205) than querybudget (250), correcting by repeating last ARItest_Basic_k-Means\n",
      "less clusterings (198) than querybudget (250), correcting by repeating last ARItest_Basic_k-Means\n",
      "less clusterings (199) than querybudget (250), correcting by repeating last ARItest_Basic_k-Means\n",
      "less clusterings (192) than querybudget (250), correcting by repeating last ARItest_Basic_k-Means\n",
      "less clusterings (188) than querybudget (250), correcting by repeating last ARItest_Basic_k-Means\n",
      "less clusterings (194) than querybudget (250), correcting by repeating last ARItest_Basic_k-Means\n",
      "less clusterings (104) than querybudget (250), correcting by repeating last ARItest_Basic_k-Means\n",
      "less clusterings (58) than querybudget (250), correcting by repeating last ARItest_Basic_k-Means\n",
      "less clusterings (166) than querybudget (250), correcting by repeating last ARItest_Basic_k-Means\n",
      "less clusterings (62) than querybudget (250), correcting by repeating last ARItest_Basic_k-Means\n",
      "less clusterings (57) than querybudget (250), correcting by repeating last ARItest_Basic_k-Means\n",
      "less clusterings (200) than querybudget (250), correcting by repeating last ARItest_Basic_k-Means\n",
      "less clusterings (199) than querybudget (250), correcting by repeating last ARItest_Basic_k-Means\n",
      "less clusterings (192) than querybudget (250), correcting by repeating last ARItest_Basic_k-Means\n",
      "less clusterings (203) than querybudget (250), correcting by repeating last ARItest_Basic_k-Means\n",
      "less clusterings (51) than querybudget (250), correcting by repeating last ARItest_Basic_k-Means\n",
      "less clusterings (184) than querybudget (250), correcting by repeating last ARItest_Basic_k-Means\n",
      "less clusterings (173) than querybudget (250), correcting by repeating last ARItest_Basic_k-Means\n",
      "less clusterings (138) than querybudget (250), correcting by repeating last ARItest_Basic_k-Means\n",
      "less clusterings (191) than querybudget (250), correcting by repeating last ARItest_Basic_k-Means\n",
      "less clusterings (187) than querybudget (250), correcting by repeating last ARItest_Basic_k-Means\n",
      "less clusterings (4) than querybudget (250), correcting by repeating last ARItest_Basic_k-Means\n",
      "less clusterings (196) than querybudget (250), correcting by repeating last ARItest_Basic_k-Means\n",
      "less clusterings (147) than querybudget (250), correcting by repeating last ARItest_Basic_k-Means\n",
      "less clusterings (189) than querybudget (250), correcting by repeating last ARItest_Basic_k-Means\n",
      "less clusterings (22) than querybudget (250), correcting by repeating last ARItest_Basic_k-Means\n",
      "less clusterings (184) than querybudget (250), correcting by repeating last ARItest_Basic_k-Means\n",
      "less clusterings (41) than querybudget (250), correcting by repeating last ARItest_Basic_k-Means\n",
      "less clusterings (137) than querybudget (250), correcting by repeating last ARItest_Basic_k-Means\n",
      "less clusterings (169) than querybudget (250), correcting by repeating last ARItest_Basic_k-Means\n",
      "less clusterings (193) than querybudget (250), correcting by repeating last ARItest_Basic_k-Means\n",
      "less clusterings (178) than querybudget (250), correcting by repeating last ARItest_Basic_k-Means\n",
      "less clusterings (157) than querybudget (250), correcting by repeating last ARItest_Basic_k-Means\n",
      "less clusterings (78) than querybudget (250), correcting by repeating last ARItest_Basic_k-Means\n",
      "less clusterings (172) than querybudget (250), correcting by repeating last ARItest_Basic_k-Means\n",
      "less clusterings (161) than querybudget (250), correcting by repeating last ARItest_Basic_k-Means\n",
      "less clusterings (150) than querybudget (250), correcting by repeating last ARItest_Basic_k-Means\n",
      "less clusterings (200) than querybudget (250), correcting by repeating last ARItest_Basic_k-Means\n",
      "less clusterings (124) than querybudget (250), correcting by repeating last ARItest_Basic_k-Means\n",
      "less clusterings (187) than querybudget (250), correcting by repeating last ARItest_Basic_k-Means\n",
      "less clusterings (164) than querybudget (250), correcting by repeating last ARItest_Basic_k-Means\n",
      "less clusterings (111) than querybudget (250), correcting by repeating last ARItest_Basic_k-Means\n",
      "less clusterings (166) than querybudget (250), correcting by repeating last ARItest_Basic_k-Means\n",
      "less clusterings (171) than querybudget (250), correcting by repeating last ARItest_Basic_k-Means\n",
      "less clusterings (7) than querybudget (250), correcting by repeating last ARItest_Basic_k-Means\n",
      "less clusterings (192) than querybudget (250), correcting by repeating last ARItest_Basic_k-Means\n",
      "less clusterings (10) than querybudget (250), correcting by repeating last ARItest_Basic_k-Means\n",
      "less clusterings (184) than querybudget (250), correcting by repeating last ARItest_Basic_k-Means\n",
      "less clusterings (164) than querybudget (250), correcting by repeating last ARItest_Basic_k-Means\n",
      "less clusterings (204) than querybudget (250), correcting by repeating last ARItest_Basic_k-Means\n",
      "less clusterings (163) than querybudget (250), correcting by repeating last ARItest_Basic_k-Means\n",
      "less clusterings (128) than querybudget (250), correcting by repeating last ARItest_Basic_k-Means\n",
      "less clusterings (197) than querybudget (250), correcting by repeating last ARItest_Basic_k-Means\n",
      "less clusterings (167) than querybudget (250), correcting by repeating last ARItest_Basic_k-Means\n",
      "less clusterings (172) than querybudget (250), correcting by repeating last ARItest_Basic_k-Means\n",
      "less clusterings (174) than querybudget (250), correcting by repeating last ARItest_Basic_k-Means\n",
      "less clusterings (178) than querybudget (250), correcting by repeating last ARItest_Basic_k-Means\n",
      "less clusterings (187) than querybudget (250), correcting by repeating last ARItest_Basic_k-Means\n",
      "less clusterings (179) than querybudget (250), correcting by repeating last ARItest_Basic_k-Means\n",
      "less clusterings (40) than querybudget (250), correcting by repeating last ARItest_Basic_k-Means\n",
      "less clusterings (182) than querybudget (250), correcting by repeating last ARItest_Basic_k-Means\n",
      "less clusterings (188) than querybudget (250), correcting by repeating last ARItest_Basic_k-Means\n",
      "less clusterings (38) than querybudget (250), correcting by repeating last ARItest_Basic_k-Means\n",
      "less clusterings (205) than querybudget (250), correcting by repeating last ARItest_Basic_k-Means\n",
      "less clusterings (187) than querybudget (250), correcting by repeating last ARItest_Basic_k-Means\n",
      "less clusterings (173) than querybudget (250), correcting by repeating last ARItest_Basic_k-Means\n",
      "less clusterings (155) than querybudget (250), correcting by repeating last ARItest_Basic_k-Means\n",
      "less clusterings (202) than querybudget (250), correcting by repeating last ARItest_Basic_k-Means\n",
      "less clusterings (82) than querybudget (250), correcting by repeating last ARItest_Basic_k-Means\n",
      "less clusterings (154) than querybudget (250), correcting by repeating last ARItest_Basic_k-Means\n",
      "less clusterings (186) than querybudget (250), correcting by repeating last ARItest_Basic_k-Means\n",
      "less clusterings (163) than querybudget (250), correcting by repeating last ARItest_Basic_k-Means\n",
      "less clusterings (168) than querybudget (250), correcting by repeating last ARItest_Basic_k-Means\n",
      "less clusterings (175) than querybudget (250), correcting by repeating last ARItest_Basic_k-Means\n",
      "less clusterings (190) than querybudget (250), correcting by repeating last ARItest_Basic_k-Means\n",
      "less clusterings (105) than querybudget (250), correcting by repeating last ARItest_Basic_k-Means\n",
      "less clusterings (179) than querybudget (250), correcting by repeating last ARItest_Basic_k-Means\n",
      "less clusterings (180) than querybudget (250), correcting by repeating last ARItest_Basic_k-Means\n",
      "less clusterings (146) than querybudget (250), correcting by repeating last ARItest_Basic_k-Means\n",
      "less clusterings (185) than querybudget (250), correcting by repeating last ARItest_Basic_k-Means\n",
      "less clusterings (163) than querybudget (250), correcting by repeating last ARItest_Basic_k-Means\n",
      "less clusterings (172) than querybudget (250), correcting by repeating last ARItest_Basic_k-Means\n",
      "less clusterings (126) than querybudget (250), correcting by repeating last ARItest_Basic_k-Means\n",
      "less clusterings (176) than querybudget (250), correcting by repeating last ARItest_Basic_k-Means\n",
      "less clusterings (178) than querybudget (250), correcting by repeating last ARItest_Basic_k-Means\n",
      "less clusterings (124) than querybudget (250), correcting by repeating last ARItest_Basic_k-Means\n",
      "less clusterings (39) than querybudget (250), correcting by repeating last ARItest_Basic_k-Means\n",
      "calculating average rank\n"
     ]
    },
    {
     "name": "stderr",
     "output_type": "stream",
     "text": [
      "\n"
     ]
    },
    {
     "name": "stdout",
     "output_type": "stream",
     "text": [
      "all resulting plots are in \\Users\\nicol\\Documents\\thesis\\thesis\\results\\results\\figures\\test_splitlevel_estimation_fixed_k-means_vs_basic_k-means\n"
     ]
    }
   ],
   "source": [
    "test_names = [test_name_1, test_name_2]\n",
    "comparison_name = 'test_splitlevel_estimation_fixed_k-means_vs_basic_k-means'\n",
    "nb_of_cores = 4\n",
    "query_budget = 250\n",
    "\n",
    "calculate_n_times_n_fold_aris_for_testnames(test_names, nb_cores=nb_of_cores)\n",
    "calculate_average_aris(test_names, query_budget)\n",
    "calculate_and_write_aligned_rank(test_names,comparison_name)\n",
    "\n",
    "plot_average_ARI_per_dataset(comparison_name, test_names, test_names)\n",
    "plot_overall_average_ARI(comparison_name, test_names, test_names)\n",
    "plot_rank_comparison_file(comparison_name, test_names, test_names)\n",
    "\n",
    "print(f\"all resulting plots are in {Path(FIGURE_DIR)/comparison_name}\")"
   ]
  },
  {
   "cell_type": "code",
   "execution_count": null,
   "metadata": {},
   "outputs": [],
   "source": []
  }
 ],
 "metadata": {
  "kernelspec": {
   "display_name": "Python 3",
   "language": "python",
   "name": "python3"
  },
  "language_info": {
   "codemirror_mode": {
    "name": "ipython",
    "version": 3
   },
   "file_extension": ".py",
   "mimetype": "text/x-python",
   "name": "python",
   "nbconvert_exporter": "python",
   "pygments_lexer": "ipython3",
   "version": "3.8.5"
  }
 },
 "nbformat": 4,
 "nbformat_minor": 4
}
