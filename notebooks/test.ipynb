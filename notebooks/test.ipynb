{
 "cells": [
  {
   "cell_type": "code",
   "execution_count": 9,
   "metadata": {},
   "outputs": [
    {
     "name": "stdout",
     "output_type": "stream",
     "text": [
      "imports succeeded\n"
     ]
    }
   ],
   "source": [
    "import os\n",
    "import sys\n",
    "module_path_dont_know = os.path.abspath(os.path.join('../COBRAS_dont_know'))\n",
    "module_path_testing = os.path.abspath(os.path.join('../COBRAS_testing'))\n",
    "\n",
    "if module_path_dont_know not in sys.path:\n",
    "    sys.path.append(module_path_dont_know)\n",
    "    print(\"module path of dont_know added\")\n",
    "\n",
    "if module_path_testing not in sys.path:\n",
    "    sys.path.append(module_path_testing)\n",
    "    print(\"module path of testing added\")\n",
    "    \n",
    "from before_clustering.generate_folds import generate_folds_for_dataset\n",
    "from clustering_algorithms.kmeans_fixed_representative import KmeansFixedRepresentative\n",
    "from clustering_algorithms.kmeans_plus_fixed_representative import KmeansPlusFixedRepresentative\n",
    "from cobras.cobras import COBRAS\n",
    "from cobras.cobras_logger import COBRASLogger\n",
    "from cobras.querier.labelquerier import LabelQuerier\n",
    "from cobras.querier.weak_querier import WeakQuerier\n",
    "from cobras.super_instances.superinstance_select_representative import SuperInstance_select_representative_Builder\n",
    "from config import FOLD_RESULT_DIR, FIGURE_DIR\n",
    "from evaluate_clusterings.calculate_aligned_rank import calculate_and_write_aligned_rank\n",
    "from evaluate_clusterings.calculate_aris import calculate_n_times_n_fold_aris_for_testnames\n",
    "from evaluate_clusterings.calculate_average_aris import calculate_average_aris\n",
    "from generate_clusterings.clustering_task import make_n_run_10_fold_cross_validation\n",
    "from heuristics.select_super_instance_heuristics import *\n",
    "from heuristics.splitlevel_estimation_strategy import *\n",
    "from pathlib import Path\n",
    "from present_results.plot_aligned_rank import plot_rank_comparison_file\n",
    "from present_results.plot_aris import plot_average_ARI_per_dataset\n",
    "from present_results.plot_aris import plot_overall_average_ARI\n",
    "from present_results.plot_query_reuse import calculate_and_plot_query_reuse\n",
    "from present_results.plot_query_reuse_per_dataset import calculate_and_plot_query_reuse_per_dataset\n",
    "from run_locally.run_tests import run_clustering_tasks_locally\n",
    "from util.datasets import Dataset\n",
    "\n",
    "print(\"imports succeeded\")"
   ]
  },
  {
   "cell_type": "code",
   "execution_count": 10,
   "metadata": {},
   "outputs": [
    {
     "name": "stdout",
     "output_type": "stream",
     "text": [
      "done\n"
     ]
    }
   ],
   "source": [
    "if not Path(FOLD_RESULT_DIR).exists():\n",
    "    generate_folds_for_dataset()\n",
    "print(\"done\")"
   ]
  },
  {
   "cell_type": "code",
   "execution_count": 11,
   "metadata": {},
   "outputs": [
    {
     "name": "stdout",
     "output_type": "stream",
     "text": [
      "done\n"
     ]
    }
   ],
   "source": [
    "splitstrat = StandardSplitLevelEstimationStrategyAlwayskmeans(SelectMostInstancesHeuristic())\n",
    "clusterer_1 = COBRAS()\n",
    "querier = LabelQuerier(None,100)\n",
    "#querier = WeakQuerier(data.data,data.target,1000,'local_nondet')\n",
    "#querier = WeakQuerier(None, None ,1000,'local_nondet')\n",
    "test_name_1 = \"standard_COBRAS\"\n",
    "all_dataset_names = Dataset.get_standard_dataset_names()#[\"iris\"]#\n",
    "clustering_tasks = make_n_run_10_fold_cross_validation(test_name_1, clusterer_1,querier,all_dataset_names,3)\n",
    "print(\"done\")"
   ]
  },
  {
   "cell_type": "code",
   "execution_count": 12,
   "metadata": {},
   "outputs": [
    {
     "name": "stdout",
     "output_type": "stream",
     "text": [
      "done\n"
     ]
    }
   ],
   "source": [
    "clusterer_6 = COBRAS(superinstance_builder= SuperInstance_select_representative_Builder())\n",
    "test_name_6 = \"6\"\n",
    "clustering_tasks.extend(make_n_run_10_fold_cross_validation(test_name_6, clusterer_6, querier, all_dataset_names, 3))\n",
    "print(\"done\")"
   ]
  },
  {
   "cell_type": "code",
   "execution_count": 13,
   "metadata": {},
   "outputs": [],
   "source": [
    "#\"clusterer_9 = COBRAS(cluster_algo = KmeansFixedRepresentative(),superinstance_builder= SuperInstance_select_representative_Builder(), splitlevel_strategy=splitstrat)\n",
    "#test_name_9 = \"9\"\n",
    "#clustering_tasks =make_n_run_10_fold_cross_validation(test_name_9, clusterer_9, querier, all_dataset_names, 3)\n",
    "#print(\"done\")"
   ]
  },
  {
   "cell_type": "code",
   "execution_count": 14,
   "metadata": {},
   "outputs": [],
   "source": [
    "#clusterer_10 = COBRAS(cluster_algo = KmeansPlusFixedRepresentative(),superinstance_builder= SuperInstance_select_representative_Builder() , splitlevel_strategy=splitstrat)\n",
    "#test_name_10 = \"10\"\n",
    "#clustering_tasks.extend(make_n_run_10_fold_cross_validation(test_name_10, clusterer_10, querier, all_dataset_names, 3))\n",
    "#print(\"done\")"
   ]
  },
  {
   "cell_type": "code",
   "execution_count": 15,
   "metadata": {},
   "outputs": [
    {
     "name": "stderr",
     "output_type": "stream",
     "text": [
      "100%|██████████| 1260/1260 [6:22:05<00:00, 18.19s/it]    \n"
     ]
    },
    {
     "name": "stdout",
     "output_type": "stream",
     "text": [
      "done\n"
     ]
    }
   ],
   "source": [
    "run_clustering_tasks_locally(clustering_tasks,4)\n",
    "print(\"done\")"
   ]
  },
  {
   "cell_type": "code",
   "execution_count": 8,
   "metadata": {},
   "outputs": [
    {
     "name": "stderr",
     "output_type": "stream",
     "text": [
      "\r",
      "  0%|          | 0/1260 [00:00<?, ?it/s]"
     ]
    },
    {
     "name": "stdout",
     "output_type": "stream",
     "text": [
      "Calculating ARIs for n-times n-fold:  ['9', '10']\n",
      "running with 4 cores\n"
     ]
    },
    {
     "name": "stderr",
     "output_type": "stream",
     "text": [
      "100%|██████████| 1260/1260 [05:21<00:00,  3.92it/s]\n",
      "  0%|          | 0/2 [00:00<?, ?it/s]"
     ]
    },
    {
     "name": "stdout",
     "output_type": "stream",
     "text": [
      "Calculating average ARIs\n",
      "less clusterings (13) than querybudget (100), correcting by repeating last ARI9\n",
      "less clusterings (46) than querybudget (100), correcting by repeating last ARI9\n",
      "less clusterings (10) than querybudget (100), correcting by repeating last ARI9\n",
      "less clusterings (56) than querybudget (100), correcting by repeating last ARI9\n",
      "less clusterings (25) than querybudget (100), correcting by repeating last ARI9\n",
      "less clusterings (90) than querybudget (100), correcting by repeating last ARI9\n",
      "less clusterings (54) than querybudget (100), correcting by repeating last ARI9\n",
      "less clusterings (69) than querybudget (100), correcting by repeating last ARI9\n",
      "less clusterings (60) than querybudget (100), correcting by repeating last ARI9\n",
      "less clusterings (97) than querybudget (100), correcting by repeating last ARI9\n",
      "less clusterings (84) than querybudget (100), correcting by repeating last ARI9\n",
      "less clusterings (91) than querybudget (100), correcting by repeating last ARI9\n",
      "less clusterings (40) than querybudget (100), correcting by repeating last ARI9\n",
      "less clusterings (56) than querybudget (100), correcting by repeating last ARI9\n",
      "less clusterings (31) than querybudget (100), correcting by repeating last ARI9\n",
      "less clusterings (5) than querybudget (100), correcting by repeating last ARI9\n",
      "less clusterings (55) than querybudget (100), correcting by repeating last ARI9\n",
      "less clusterings (51) than querybudget (100), correcting by repeating last ARI9\n",
      "less clusterings (64) than querybudget (100), correcting by repeating last ARI9\n",
      "less clusterings (20) than querybudget (100), correcting by repeating last ARI9\n",
      "less clusterings (29) than querybudget (100), correcting by repeating last ARI9\n",
      "less clusterings (61) than querybudget (100), correcting by repeating last ARI9\n",
      "less clusterings (52) than querybudget (100), correcting by repeating last ARI9\n",
      "less clusterings (33) than querybudget (100), correcting by repeating last ARI9\n",
      "less clusterings (66) than querybudget (100), correcting by repeating last ARI9\n",
      "less clusterings (3) than querybudget (100), correcting by repeating last ARI9\n",
      "less clusterings (34) than querybudget (100), correcting by repeating last ARI9\n",
      "less clusterings (24) than querybudget (100), correcting by repeating last ARI9\n",
      "less clusterings (38) than querybudget (100), correcting by repeating last ARI9\n",
      "less clusterings (32) than querybudget (100), correcting by repeating last ARI9\n",
      "less clusterings (6) than querybudget (100), correcting by repeating last ARI9\n",
      "less clusterings (22) than querybudget (100), correcting by repeating last ARI9\n",
      "less clusterings (18) than querybudget (100), correcting by repeating last ARI9\n",
      "less clusterings (9) than querybudget (100), correcting by repeating last ARI9\n",
      "less clusterings (11) than querybudget (100), correcting by repeating last ARI9\n",
      "less clusterings (44) than querybudget (100), correcting by repeating last ARI9\n",
      "less clusterings (38) than querybudget (100), correcting by repeating last ARI9\n",
      "less clusterings (51) than querybudget (100), correcting by repeating last ARI9\n",
      "less clusterings (52) than querybudget (100), correcting by repeating last ARI9\n",
      "less clusterings (18) than querybudget (100), correcting by repeating last ARI9\n",
      "less clusterings (75) than querybudget (100), correcting by repeating last ARI9\n",
      "less clusterings (44) than querybudget (100), correcting by repeating last ARI9\n",
      "less clusterings (26) than querybudget (100), correcting by repeating last ARI9\n",
      "less clusterings (69) than querybudget (100), correcting by repeating last ARI9\n",
      "less clusterings (45) than querybudget (100), correcting by repeating last ARI9\n",
      "less clusterings (44) than querybudget (100), correcting by repeating last ARI9\n",
      "less clusterings (11) than querybudget (100), correcting by repeating last ARI9\n",
      "less clusterings (26) than querybudget (100), correcting by repeating last ARI9\n",
      "less clusterings (71) than querybudget (100), correcting by repeating last ARI9\n",
      "less clusterings (44) than querybudget (100), correcting by repeating last ARI9\n",
      "less clusterings (52) than querybudget (100), correcting by repeating last ARI9\n",
      "less clusterings (89) than querybudget (100), correcting by repeating last ARI9\n",
      "less clusterings (71) than querybudget (100), correcting by repeating last ARI9\n",
      "less clusterings (94) than querybudget (100), correcting by repeating last ARI9\n",
      "less clusterings (92) than querybudget (100), correcting by repeating last ARI9\n",
      "less clusterings (86) than querybudget (100), correcting by repeating last ARI9\n",
      "less clusterings (93) than querybudget (100), correcting by repeating last ARI9\n",
      "less clusterings (83) than querybudget (100), correcting by repeating last ARI9\n",
      "less clusterings (74) than querybudget (100), correcting by repeating last ARI9\n",
      "less clusterings (37) than querybudget (100), correcting by repeating last ARI9\n",
      "less clusterings (34) than querybudget (100), correcting by repeating last ARI9\n",
      "less clusterings (27) than querybudget (100), correcting by repeating last ARI9\n",
      "less clusterings (50) than querybudget (100), correcting by repeating last ARI9\n",
      "less clusterings (17) than querybudget (100), correcting by repeating last ARI9\n",
      "less clusterings (5) than querybudget (100), correcting by repeating last ARI9\n",
      "less clusterings (21) than querybudget (100), correcting by repeating last ARI9\n",
      "less clusterings (28) than querybudget (100), correcting by repeating last ARI9\n",
      "less clusterings (65) than querybudget (100), correcting by repeating last ARI9\n",
      "less clusterings (24) than querybudget (100), correcting by repeating last ARI9\n",
      "less clusterings (40) than querybudget (100), correcting by repeating last ARI9\n",
      "less clusterings (60) than querybudget (100), correcting by repeating last ARI9\n",
      "less clusterings (45) than querybudget (100), correcting by repeating last ARI9\n",
      "less clusterings (40) than querybudget (100), correcting by repeating last ARI9\n",
      "less clusterings (18) than querybudget (100), correcting by repeating last ARI9\n",
      "less clusterings (43) than querybudget (100), correcting by repeating last ARI9\n",
      "less clusterings (66) than querybudget (100), correcting by repeating last ARI9\n",
      "less clusterings (6) than querybudget (100), correcting by repeating last ARI9\n",
      "less clusterings (15) than querybudget (100), correcting by repeating last ARI9\n",
      "less clusterings (43) than querybudget (100), correcting by repeating last ARI9\n",
      "less clusterings (8) than querybudget (100), correcting by repeating last ARI9\n",
      "less clusterings (34) than querybudget (100), correcting by repeating last ARI9\n",
      "less clusterings (17) than querybudget (100), correcting by repeating last ARI9\n",
      "less clusterings (26) than querybudget (100), correcting by repeating last ARI9\n",
      "less clusterings (40) than querybudget (100), correcting by repeating last ARI9\n",
      "less clusterings (22) than querybudget (100), correcting by repeating last ARI9\n",
      "less clusterings (4) than querybudget (100), correcting by repeating last ARI9\n",
      "less clusterings (28) than querybudget (100), correcting by repeating last ARI9\n",
      "less clusterings (45) than querybudget (100), correcting by repeating last ARI9\n",
      "less clusterings (99) than querybudget (100), correcting by repeating last ARI9\n",
      "less clusterings (6) than querybudget (100), correcting by repeating last ARI9\n",
      "less clusterings (7) than querybudget (100), correcting by repeating last ARI9\n",
      "less clusterings (8) than querybudget (100), correcting by repeating last ARI9\n",
      "less clusterings (30) than querybudget (100), correcting by repeating last ARI9\n",
      "less clusterings (3) than querybudget (100), correcting by repeating last ARI9\n",
      "less clusterings (28) than querybudget (100), correcting by repeating last ARI9\n",
      "less clusterings (10) than querybudget (100), correcting by repeating last ARI9\n",
      "less clusterings (33) than querybudget (100), correcting by repeating last ARI9\n",
      "less clusterings (41) than querybudget (100), correcting by repeating last ARI9\n",
      "less clusterings (3) than querybudget (100), correcting by repeating last ARI9\n",
      "less clusterings (6) than querybudget (100), correcting by repeating last ARI9\n",
      "less clusterings (53) than querybudget (100), correcting by repeating last ARI9\n",
      "less clusterings (7) than querybudget (100), correcting by repeating last ARI9\n",
      "less clusterings (2) than querybudget (100), correcting by repeating last ARI9\n",
      "less clusterings (4) than querybudget (100), correcting by repeating last ARI9\n",
      "less clusterings (8) than querybudget (100), correcting by repeating last ARI9\n",
      "less clusterings (69) than querybudget (100), correcting by repeating last ARI9\n",
      "less clusterings (6) than querybudget (100), correcting by repeating last ARI9\n",
      "less clusterings (35) than querybudget (100), correcting by repeating last ARI9\n",
      "less clusterings (12) than querybudget (100), correcting by repeating last ARI9\n",
      "less clusterings (17) than querybudget (100), correcting by repeating last ARI9\n",
      "less clusterings (82) than querybudget (100), correcting by repeating last ARI9\n",
      "less clusterings (23) than querybudget (100), correcting by repeating last ARI9\n",
      "less clusterings (3) than querybudget (100), correcting by repeating last ARI9\n"
     ]
    },
    {
     "name": "stdout",
     "output_type": "stream",
     "text": [
      "less clusterings (48) than querybudget (100), correcting by repeating last ARI9\n",
      "less clusterings (69) than querybudget (100), correcting by repeating last ARI9\n",
      "less clusterings (21) than querybudget (100), correcting by repeating last ARI9\n",
      "less clusterings (37) than querybudget (100), correcting by repeating last ARI9\n",
      "less clusterings (64) than querybudget (100), correcting by repeating last ARI9\n",
      "less clusterings (90) than querybudget (100), correcting by repeating last ARI9\n",
      "less clusterings (53) than querybudget (100), correcting by repeating last ARI9\n",
      "less clusterings (83) than querybudget (100), correcting by repeating last ARI9\n",
      "less clusterings (69) than querybudget (100), correcting by repeating last ARI9\n",
      "less clusterings (53) than querybudget (100), correcting by repeating last ARI9\n",
      "less clusterings (40) than querybudget (100), correcting by repeating last ARI9\n",
      "less clusterings (41) than querybudget (100), correcting by repeating last ARI9\n",
      "less clusterings (36) than querybudget (100), correcting by repeating last ARI9\n",
      "less clusterings (71) than querybudget (100), correcting by repeating last ARI9\n",
      "less clusterings (99) than querybudget (100), correcting by repeating last ARI9\n",
      "less clusterings (42) than querybudget (100), correcting by repeating last ARI9\n",
      "less clusterings (8) than querybudget (100), correcting by repeating last ARI9\n",
      "less clusterings (63) than querybudget (100), correcting by repeating last ARI9\n",
      "less clusterings (45) than querybudget (100), correcting by repeating last ARI9\n",
      "less clusterings (38) than querybudget (100), correcting by repeating last ARI9\n",
      "less clusterings (4) than querybudget (100), correcting by repeating last ARI9\n",
      "less clusterings (79) than querybudget (100), correcting by repeating last ARI9\n",
      "less clusterings (14) than querybudget (100), correcting by repeating last ARI9\n",
      "less clusterings (85) than querybudget (100), correcting by repeating last ARI9\n",
      "less clusterings (85) than querybudget (100), correcting by repeating last ARI9\n",
      "less clusterings (71) than querybudget (100), correcting by repeating last ARI9\n",
      "less clusterings (64) than querybudget (100), correcting by repeating last ARI9\n",
      "less clusterings (81) than querybudget (100), correcting by repeating last ARI9\n",
      "less clusterings (62) than querybudget (100), correcting by repeating last ARI9\n",
      "less clusterings (62) than querybudget (100), correcting by repeating last ARI9\n",
      "less clusterings (72) than querybudget (100), correcting by repeating last ARI9\n"
     ]
    },
    {
     "name": "stderr",
     "output_type": "stream",
     "text": [
      "\r",
      " 50%|█████     | 1/2 [00:03<00:03,  3.78s/it]"
     ]
    },
    {
     "name": "stdout",
     "output_type": "stream",
     "text": [
      "less clusterings (72) than querybudget (100), correcting by repeating last ARI10\n",
      "less clusterings (69) than querybudget (100), correcting by repeating last ARI10\n",
      "less clusterings (96) than querybudget (100), correcting by repeating last ARI10\n",
      "less clusterings (49) than querybudget (100), correcting by repeating last ARI10\n",
      "less clusterings (58) than querybudget (100), correcting by repeating last ARI10\n",
      "less clusterings (45) than querybudget (100), correcting by repeating last ARI10\n",
      "less clusterings (66) than querybudget (100), correcting by repeating last ARI10\n",
      "less clusterings (80) than querybudget (100), correcting by repeating last ARI10\n",
      "less clusterings (26) than querybudget (100), correcting by repeating last ARI10\n",
      "less clusterings (72) than querybudget (100), correcting by repeating last ARI10\n",
      "less clusterings (17) than querybudget (100), correcting by repeating last ARI10\n",
      "less clusterings (77) than querybudget (100), correcting by repeating last ARI10\n",
      "less clusterings (36) than querybudget (100), correcting by repeating last ARI10\n",
      "less clusterings (90) than querybudget (100), correcting by repeating last ARI10\n",
      "less clusterings (61) than querybudget (100), correcting by repeating last ARI10\n",
      "less clusterings (6) than querybudget (100), correcting by repeating last ARI10\n",
      "less clusterings (88) than querybudget (100), correcting by repeating last ARI10\n",
      "less clusterings (47) than querybudget (100), correcting by repeating last ARI10\n",
      "less clusterings (50) than querybudget (100), correcting by repeating last ARI10\n",
      "less clusterings (76) than querybudget (100), correcting by repeating last ARI10\n",
      "less clusterings (97) than querybudget (100), correcting by repeating last ARI10\n",
      "less clusterings (40) than querybudget (100), correcting by repeating last ARI10\n",
      "less clusterings (61) than querybudget (100), correcting by repeating last ARI10\n",
      "less clusterings (27) than querybudget (100), correcting by repeating last ARI10\n",
      "less clusterings (55) than querybudget (100), correcting by repeating last ARI10\n",
      "less clusterings (55) than querybudget (100), correcting by repeating last ARI10\n",
      "less clusterings (74) than querybudget (100), correcting by repeating last ARI10\n",
      "less clusterings (69) than querybudget (100), correcting by repeating last ARI10\n",
      "less clusterings (29) than querybudget (100), correcting by repeating last ARI10\n",
      "less clusterings (23) than querybudget (100), correcting by repeating last ARI10\n",
      "less clusterings (20) than querybudget (100), correcting by repeating last ARI10\n",
      "less clusterings (72) than querybudget (100), correcting by repeating last ARI10\n",
      "less clusterings (37) than querybudget (100), correcting by repeating last ARI10\n",
      "less clusterings (74) than querybudget (100), correcting by repeating last ARI10\n",
      "less clusterings (33) than querybudget (100), correcting by repeating last ARI10\n",
      "less clusterings (90) than querybudget (100), correcting by repeating last ARI10\n",
      "less clusterings (30) than querybudget (100), correcting by repeating last ARI10\n",
      "less clusterings (80) than querybudget (100), correcting by repeating last ARI10\n",
      "less clusterings (88) than querybudget (100), correcting by repeating last ARI10\n",
      "less clusterings (67) than querybudget (100), correcting by repeating last ARI10\n",
      "less clusterings (2) than querybudget (100), correcting by repeating last ARI10\n",
      "less clusterings (91) than querybudget (100), correcting by repeating last ARI10\n",
      "less clusterings (87) than querybudget (100), correcting by repeating last ARI10\n",
      "less clusterings (89) than querybudget (100), correcting by repeating last ARI10\n",
      "less clusterings (57) than querybudget (100), correcting by repeating last ARI10\n",
      "less clusterings (94) than querybudget (100), correcting by repeating last ARI10\n",
      "less clusterings (7) than querybudget (100), correcting by repeating last ARI10\n",
      "less clusterings (72) than querybudget (100), correcting by repeating last ARI10\n",
      "less clusterings (7) than querybudget (100), correcting by repeating last ARI10\n",
      "less clusterings (9) than querybudget (100), correcting by repeating last ARI10\n",
      "less clusterings (6) than querybudget (100), correcting by repeating last ARI10\n",
      "less clusterings (5) than querybudget (100), correcting by repeating last ARI10\n",
      "less clusterings (26) than querybudget (100), correcting by repeating last ARI10\n",
      "less clusterings (80) than querybudget (100), correcting by repeating last ARI10\n",
      "less clusterings (64) than querybudget (100), correcting by repeating last ARI10\n",
      "less clusterings (46) than querybudget (100), correcting by repeating last ARI10\n",
      "less clusterings (96) than querybudget (100), correcting by repeating last ARI10\n"
     ]
    },
    {
     "name": "stderr",
     "output_type": "stream",
     "text": [
      "100%|██████████| 2/2 [00:07<00:00,  3.77s/it]\n"
     ]
    },
    {
     "name": "stdout",
     "output_type": "stream",
     "text": [
      "calculating average rank\n",
      "/Users/nicol/Documents/KUL 2020-2021/thesis/code/results\\results\\figures\\check_split_levels\\breast-cancer-wisconsin.png\n",
      "[104302, 82378]\n",
      "[12399, 11902]\n",
      "[2725, 3000]\n",
      "plotted /Users/nicol/Documents/KUL 2020-2021/thesis/code/results\\results\\figures\\check_split_levels\\breast-cancer-wisconsin.png\n",
      "/Users/nicol/Documents/KUL 2020-2021/thesis/code/results\\results\\figures\\check_split_levels\\column_2C.png\n",
      "[21008, 16635]\n",
      "[5063, 5296]\n",
      "[2925, 3000]\n",
      "plotted /Users/nicol/Documents/KUL 2020-2021/thesis/code/results\\results\\figures\\check_split_levels\\column_2C.png\n",
      "/Users/nicol/Documents/KUL 2020-2021/thesis/code/results\\results\\figures\\check_split_levels\\dermatology.png\n",
      "[137074, 125132]\n",
      "[18040, 20953]\n",
      "[3000, 3000]\n",
      "plotted /Users/nicol/Documents/KUL 2020-2021/thesis/code/results\\results\\figures\\check_split_levels\\dermatology.png\n",
      "/Users/nicol/Documents/KUL 2020-2021/thesis/code/results\\results\\figures\\check_split_levels\\ecoli.png\n",
      "[65254, 59259]\n",
      "[10041, 11904]\n",
      "[3000, 3000]\n",
      "plotted /Users/nicol/Documents/KUL 2020-2021/thesis/code/results\\results\\figures\\check_split_levels\\ecoli.png\n",
      "/Users/nicol/Documents/KUL 2020-2021/thesis/code/results\\results\\figures\\check_split_levels\\faces_expression_imagenet.png\n",
      "[7139, 4546]\n",
      "[2293, 1455]\n",
      "[2870, 2937]\n",
      "plotted /Users/nicol/Documents/KUL 2020-2021/thesis/code/results\\results\\figures\\check_split_levels\\faces_expression_imagenet.png\n",
      "/Users/nicol/Documents/KUL 2020-2021/thesis/code/results\\results\\figures\\check_split_levels\\faces_eyes_imagenet.png\n",
      "[4670, 12916]\n",
      "[2375, 5735]\n",
      "[1138, 1953]\n",
      "plotted /Users/nicol/Documents/KUL 2020-2021/thesis/code/results\\results\\figures\\check_split_levels\\faces_eyes_imagenet.png\n",
      "/Users/nicol/Documents/KUL 2020-2021/thesis/code/results\\results\\figures\\check_split_levels\\faces_identity_imagenet.png\n",
      "[3853, 2800]\n",
      "[1164, 1225]\n",
      "[2845, 2821]\n",
      "plotted /Users/nicol/Documents/KUL 2020-2021/thesis/code/results\\results\\figures\\check_split_levels\\faces_identity_imagenet.png\n",
      "/Users/nicol/Documents/KUL 2020-2021/thesis/code/results\\results\\figures\\check_split_levels\\faces_pose_imagenet.png\n",
      "[2957, 3429]\n",
      "[1255, 1336]\n",
      "[2858, 2829]\n",
      "plotted /Users/nicol/Documents/KUL 2020-2021/thesis/code/results\\results\\figures\\check_split_levels\\faces_pose_imagenet.png\n",
      "/Users/nicol/Documents/KUL 2020-2021/thesis/code/results\\results\\figures\\check_split_levels\\glass.png\n",
      "[23498, 18096]\n",
      "[4726, 5175]\n",
      "[2704, 3000]\n",
      "plotted /Users/nicol/Documents/KUL 2020-2021/thesis/code/results\\results\\figures\\check_split_levels\\glass.png\n",
      "/Users/nicol/Documents/KUL 2020-2021/thesis/code/results\\results\\figures\\check_split_levels\\hepatitis.png\n",
      "[25483, 24147]\n",
      "[8945, 8833]\n",
      "[2882, 3000]\n",
      "plotted /Users/nicol/Documents/KUL 2020-2021/thesis/code/results\\results\\figures\\check_split_levels\\hepatitis.png\n",
      "/Users/nicol/Documents/KUL 2020-2021/thesis/code/results\\results\\figures\\check_split_levels\\ionosphere.png\n",
      "[5033, 16356]\n",
      "[1903, 5289]\n",
      "[1063, 2582]\n",
      "plotted /Users/nicol/Documents/KUL 2020-2021/thesis/code/results\\results\\figures\\check_split_levels\\ionosphere.png\n",
      "/Users/nicol/Documents/KUL 2020-2021/thesis/code/results\\results\\figures\\check_split_levels\\iris.png\n",
      "[166415, 211203]\n",
      "[20539, 26587]\n",
      "[2944, 3000]\n",
      "plotted /Users/nicol/Documents/KUL 2020-2021/thesis/code/results\\results\\figures\\check_split_levels\\iris.png\n",
      "/Users/nicol/Documents/KUL 2020-2021/thesis/code/results\\results\\figures\\check_split_levels\\newsgroups_diff3.png\n",
      "[49985, 45016]\n",
      "[6641, 8559]\n",
      "[3000, 3000]\n",
      "plotted /Users/nicol/Documents/KUL 2020-2021/thesis/code/results\\results\\figures\\check_split_levels\\newsgroups_diff3.png\n",
      "/Users/nicol/Documents/KUL 2020-2021/thesis/code/results\\results\\figures\\check_split_levels\\newsgroups_sim3.png\n",
      "[16498, 13197]\n",
      "[3325, 3604]\n",
      "[3000, 3000]\n",
      "plotted /Users/nicol/Documents/KUL 2020-2021/thesis/code/results\\results\\figures\\check_split_levels\\newsgroups_sim3.png\n",
      "/Users/nicol/Documents/KUL 2020-2021/thesis/code/results\\results\\figures\\check_split_levels\\optdigits389_full.png\n",
      "[70432, 77631]\n",
      "[10175, 8971]\n",
      "[3000, 3000]\n",
      "plotted /Users/nicol/Documents/KUL 2020-2021/thesis/code/results\\results\\figures\\check_split_levels\\optdigits389_full.png\n",
      "/Users/nicol/Documents/KUL 2020-2021/thesis/code/results\\results\\figures\\check_split_levels\\parkinsons.png\n",
      "[6481, 23230]\n",
      "[2216, 5073]\n",
      "[1096, 2432]\n",
      "plotted /Users/nicol/Documents/KUL 2020-2021/thesis/code/results\\results\\figures\\check_split_levels\\parkinsons.png\n",
      "/Users/nicol/Documents/KUL 2020-2021/thesis/code/results\\results\\figures\\check_split_levels\\segmentation.png\n",
      "[1897, 1676]\n",
      "[424, 656]\n",
      "[3000, 3000]\n",
      "plotted /Users/nicol/Documents/KUL 2020-2021/thesis/code/results\\results\\figures\\check_split_levels\\segmentation.png\n",
      "/Users/nicol/Documents/KUL 2020-2021/thesis/code/results\\results\\figures\\check_split_levels\\sonar.png\n",
      "[11544, 14797]\n",
      "[4163, 5646]\n",
      "[1852, 2886]\n",
      "plotted /Users/nicol/Documents/KUL 2020-2021/thesis/code/results\\results\\figures\\check_split_levels\\sonar.png\n",
      "/Users/nicol/Documents/KUL 2020-2021/thesis/code/results\\results\\figures\\check_split_levels\\spambase.png\n",
      "[105899, 42951]\n",
      "[6481, 3706]\n",
      "[3000, 3000]\n",
      "plotted /Users/nicol/Documents/KUL 2020-2021/thesis/code/results\\results\\figures\\check_split_levels\\spambase.png\n",
      "/Users/nicol/Documents/KUL 2020-2021/thesis/code/results\\results\\figures\\check_split_levels\\wine.png\n",
      "[101709, 143110]\n",
      "[13890, 19186]\n",
      "[2797, 3000]\n",
      "plotted /Users/nicol/Documents/KUL 2020-2021/thesis/code/results\\results\\figures\\check_split_levels\\wine.png\n",
      "/Users/nicol/Documents/KUL 2020-2021/thesis/code/results\\results\\figures\\check_split_levels\\yeast.png\n",
      "[14046, 10129]\n",
      "[3398, 3485]\n",
      "[3000, 3000]\n",
      "plotted /Users/nicol/Documents/KUL 2020-2021/thesis/code/results\\results\\figures\\check_split_levels\\yeast.png\n",
      "all resulting plots are in \\Users\\nicol\\Documents\\KUL 2020-2021\\thesis\\code\\results\\results\\figures\\check_split_levels\n"
     ]
    }
   ],
   "source": [
    "test_names = [test_name_9,test_name_10]#test_name_1,test_name_6,\n",
    "comparison_name = 'check_split_levels'\n",
    "nb_of_cores = 4\n",
    "query_budget = 100\n",
    "\n",
    "#print(clusterer_1.logger.nr_reused_constraints)\n",
    "\n",
    "calculate_n_times_n_fold_aris_for_testnames(test_names, nb_cores=nb_of_cores)\n",
    "calculate_average_aris(test_names, query_budget)\n",
    "calculate_and_write_aligned_rank(test_names,comparison_name)\n",
    "\n",
    "plot_average_ARI_per_dataset(comparison_name, test_names, test_names)\n",
    "plot_overall_average_ARI(comparison_name, test_names, test_names)\n",
    "plot_rank_comparison_file(comparison_name, test_names, test_names)\n",
    "\n",
    "calculate_and_plot_query_reuse(comparison_name, test_names)\n",
    "calculate_and_plot_query_reuse_per_dataset(comparison_name, test_names)\n",
    "\n",
    "print(f\"all resulting plots are in {Path(FIGURE_DIR)/comparison_name}\")"
   ]
  },
  {
   "cell_type": "code",
   "execution_count": null,
   "metadata": {},
   "outputs": [],
   "source": []
  }
 ],
 "metadata": {
  "kernelspec": {
   "display_name": "Python 3",
   "language": "python",
   "name": "python3"
  },
  "language_info": {
   "codemirror_mode": {
    "name": "ipython",
    "version": 3
   },
   "file_extension": ".py",
   "mimetype": "text/x-python",
   "name": "python",
   "nbconvert_exporter": "python",
   "pygments_lexer": "ipython3",
   "version": "3.8.3"
  }
 },
 "nbformat": 4,
 "nbformat_minor": 4
}
