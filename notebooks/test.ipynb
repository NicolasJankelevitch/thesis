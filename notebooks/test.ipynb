{
 "cells": [
  {
   "cell_type": "code",
   "execution_count": 1,
   "metadata": {},
   "outputs": [
    {
     "name": "stdout",
     "output_type": "stream",
     "text": [
      "module path of dont_know added\n",
      "module path of testing added\n",
      "imports succeeded\n"
     ]
    }
   ],
   "source": [
    "import os\n",
    "import sys\n",
    "module_path_dont_know = os.path.abspath(os.path.join('../COBRAS_dont_know'))\n",
    "module_path_testing = os.path.abspath(os.path.join('../COBRAS_testing'))\n",
    "\n",
    "if module_path_dont_know not in sys.path:\n",
    "    sys.path.append(module_path_dont_know)\n",
    "    print(\"module path of dont_know added\")\n",
    "\n",
    "if module_path_testing not in sys.path:\n",
    "    sys.path.append(module_path_testing)\n",
    "    print(\"module path of testing added\")\n",
    "    \n",
    "from before_clustering.generate_folds import generate_folds_for_dataset\n",
    "from clustering_algorithms.kmeans_fixed_representative import KmeansFixedRepresentative\n",
    "from clustering_algorithms.kmeans_plus_fixed_representative import KmeansPlusFixedRepresentative\n",
    "from cobras.cobras import COBRAS\n",
    "from cobras.cobras_logger import COBRASLogger\n",
    "from cobras.querier.labelquerier import LabelQuerier\n",
    "from cobras.querier.weak_querier import WeakQuerier\n",
    "from cobras.super_instances.superinstance_select_representative import SuperInstance_select_representative_Builder\n",
    "from config import FOLD_RESULT_DIR, FIGURE_DIR\n",
    "from evaluate_clusterings.calculate_aligned_rank import calculate_and_write_aligned_rank\n",
    "from evaluate_clusterings.calculate_aris import calculate_n_times_n_fold_aris_for_testnames\n",
    "from evaluate_clusterings.calculate_average_aris import calculate_average_aris\n",
    "from generate_clusterings.clustering_task import make_n_run_10_fold_cross_validation\n",
    "from heuristics.select_super_instance_heuristics import *\n",
    "from heuristics.splitlevel_estimation_strategy import *\n",
    "from pathlib import Path\n",
    "from present_results.plot_aligned_rank import plot_rank_comparison_file\n",
    "from present_results.plot_aris import plot_average_ARI_per_dataset\n",
    "from present_results.plot_aris import plot_overall_average_ARI\n",
    "from present_results.plot_query_reuse import calculate_and_plot_query_reuse\n",
    "from run_locally.run_tests import run_clustering_tasks_locally\n",
    "from util.datasets import Dataset\n",
    "\n",
    "print(\"imports succeeded\")"
   ]
  },
  {
   "cell_type": "code",
   "execution_count": 2,
   "metadata": {},
   "outputs": [
    {
     "name": "stdout",
     "output_type": "stream",
     "text": [
      "done\n"
     ]
    }
   ],
   "source": [
    "if not Path(FOLD_RESULT_DIR).exists():\n",
    "    generate_folds_for_dataset()\n",
    "print(\"done\")"
   ]
  },
  {
   "cell_type": "code",
   "execution_count": 3,
   "metadata": {},
   "outputs": [
    {
     "name": "stdout",
     "output_type": "stream",
     "text": [
      "done\n"
     ]
    }
   ],
   "source": [
    "splitstrat = StandardSplitLevelEstimationStrategyAlwayskmeans(SelectMostInstancesHeuristic())\n",
    "clusterer_1 = COBRAS()\n",
    "querier = LabelQuerier(None,100)\n",
    "#querier = WeakQuerier(data.data,data.target,1000,'local_nondet')\n",
    "#querier = WeakQuerier(None, None ,1000,'local_nondet')\n",
    "test_name_1 = \"standard_COBRAS\"\n",
    "all_dataset_names = Dataset.get_standard_dataset_names()#[\"iris\"]#\n",
    "clustering_tasks = make_n_run_10_fold_cross_validation(test_name_1, clusterer_1,querier,all_dataset_names,3)\n",
    "print(\"done\")"
   ]
  },
  {
   "cell_type": "code",
   "execution_count": 4,
   "metadata": {},
   "outputs": [
    {
     "name": "stdout",
     "output_type": "stream",
     "text": [
      "done\n"
     ]
    }
   ],
   "source": [
    "clusterer_2 = COBRAS(cluster_algo = KmeansFixedRepresentative())\n",
    "test_name_2 = \"2\"\n",
    "clustering_tasks.extend(make_n_run_10_fold_cross_validation(test_name_2, clusterer_2, querier, all_dataset_names, 3))\n",
    "print(\"done\")"
   ]
  },
  {
   "cell_type": "code",
   "execution_count": 5,
   "metadata": {},
   "outputs": [
    {
     "name": "stdout",
     "output_type": "stream",
     "text": [
      "done\n"
     ]
    }
   ],
   "source": [
    "clusterer_3 = COBRAS(cluster_algo = KmeansPlusFixedRepresentative())\n",
    "test_name_3 = \"3\"\n",
    "clustering_tasks.extend(make_n_run_10_fold_cross_validation(test_name_3, clusterer_3, querier, all_dataset_names, 3))\n",
    "print(\"done\")"
   ]
  },
  {
   "cell_type": "code",
   "execution_count": 6,
   "metadata": {},
   "outputs": [
    {
     "name": "stdout",
     "output_type": "stream",
     "text": [
      "done\n"
     ]
    }
   ],
   "source": [
    "clusterer_4 = COBRAS(cluster_algo = KmeansFixedRepresentative(), splitlevel_strategy = splitstrat)\n",
    "test_name_4 = \"4\"\n",
    "clustering_tasks.extend(make_n_run_10_fold_cross_validation(test_name_4, clusterer_4, querier, all_dataset_names, 3))\n",
    "print(\"done\")"
   ]
  },
  {
   "cell_type": "code",
   "execution_count": 7,
   "metadata": {},
   "outputs": [
    {
     "name": "stdout",
     "output_type": "stream",
     "text": [
      "done\n"
     ]
    }
   ],
   "source": [
    "clusterer_5 = COBRAS(cluster_algo = KmeansPlusFixedRepresentative(), splitlevel_strategy=splitstrat)\n",
    "test_name_5 = \"5\"\n",
    "clustering_tasks.extend(make_n_run_10_fold_cross_validation(test_name_5, clusterer_5, querier, all_dataset_names, 3))\n",
    "print(\"done\")"
   ]
  },
  {
   "cell_type": "code",
   "execution_count": 8,
   "metadata": {},
   "outputs": [
    {
     "name": "stdout",
     "output_type": "stream",
     "text": [
      "done\n"
     ]
    }
   ],
   "source": [
    "clusterer_6 = COBRAS(superinstance_builder= SuperInstance_select_representative_Builder())\n",
    "test_name_6 = \"6\"\n",
    "clustering_tasks.extend(make_n_run_10_fold_cross_validation(test_name_6, clusterer_6, querier, all_dataset_names, 3))\n",
    "print(\"done\")"
   ]
  },
  {
   "cell_type": "code",
   "execution_count": 9,
   "metadata": {},
   "outputs": [
    {
     "name": "stdout",
     "output_type": "stream",
     "text": [
      "done\n"
     ]
    }
   ],
   "source": [
    "clusterer_7 = COBRAS(cluster_algo = KmeansFixedRepresentative(), superinstance_builder= SuperInstance_select_representative_Builder())\n",
    "test_name_7 = \"7\"\n",
    "clustering_tasks.extend(make_n_run_10_fold_cross_validation(test_name_7, clusterer_7, querier, all_dataset_names, 3))\n",
    "print(\"done\")"
   ]
  },
  {
   "cell_type": "code",
   "execution_count": 10,
   "metadata": {},
   "outputs": [
    {
     "name": "stdout",
     "output_type": "stream",
     "text": [
      "done\n"
     ]
    }
   ],
   "source": [
    "clusterer_8 = COBRAS(cluster_algo = KmeansPlusFixedRepresentative(),superinstance_builder= SuperInstance_select_representative_Builder())\n",
    "test_name_8 = \"8\"\n",
    "clustering_tasks.extend(make_n_run_10_fold_cross_validation(test_name_8, clusterer_8, querier, all_dataset_names, 3))\n",
    "print(\"done\")"
   ]
  },
  {
   "cell_type": "code",
   "execution_count": 11,
   "metadata": {},
   "outputs": [
    {
     "name": "stdout",
     "output_type": "stream",
     "text": [
      "done\n"
     ]
    }
   ],
   "source": [
    "clusterer_9 = COBRAS(cluster_algo = KmeansFixedRepresentative(),superinstance_builder= SuperInstance_select_representative_Builder(), splitlevel_strategy=splitstrat)\n",
    "test_name_9 = \"9\"\n",
    "clustering_tasks.extend(make_n_run_10_fold_cross_validation(test_name_9, clusterer_9, querier, all_dataset_names, 3))\n",
    "print(\"done\")"
   ]
  },
  {
   "cell_type": "code",
   "execution_count": 12,
   "metadata": {},
   "outputs": [
    {
     "name": "stdout",
     "output_type": "stream",
     "text": [
      "done\n"
     ]
    }
   ],
   "source": [
    "clusterer_10 = COBRAS(cluster_algo = KmeansPlusFixedRepresentative(),superinstance_builder= SuperInstance_select_representative_Builder() , splitlevel_strategy=splitstrat)\n",
    "test_name_10 = \"10\"\n",
    "clustering_tasks.extend(make_n_run_10_fold_cross_validation(test_name_10, clusterer_10, querier, all_dataset_names, 3))\n",
    "print(\"done\")"
   ]
  },
  {
   "cell_type": "code",
   "execution_count": 13,
   "metadata": {},
   "outputs": [
    {
     "name": "stderr",
     "output_type": "stream",
     "text": [
      "100%|██████████| 5670/5670 [9:03:04<00:00,  5.75s/it]     \n"
     ]
    },
    {
     "name": "stdout",
     "output_type": "stream",
     "text": [
      "done\n"
     ]
    }
   ],
   "source": [
    "run_clustering_tasks_locally(clustering_tasks,4)\n",
    "print(\"done\")"
   ]
  },
  {
   "cell_type": "code",
   "execution_count": 2,
   "metadata": {},
   "outputs": [
    {
     "name": "stderr",
     "output_type": "stream",
     "text": [
      "\r",
      "  0%|          | 0/4 [00:00<?, ?it/s]"
     ]
    },
    {
     "name": "stdout",
     "output_type": "stream",
     "text": [
      "Calculating ARIs for n-times n-fold:  ['standard_COBRAS', '5', '6', '10']\n",
      "already calculated\n",
      "Calculating average ARIs\n"
     ]
    },
    {
     "name": "stderr",
     "output_type": "stream",
     "text": [
      "\r",
      " 25%|██▌       | 1/4 [00:07<00:23,  7.82s/it]"
     ]
    },
    {
     "name": "stdout",
     "output_type": "stream",
     "text": [
      "less clusterings (44) than querybudget (100), correcting by repeating last ARI5\n",
      "less clusterings (60) than querybudget (100), correcting by repeating last ARI5\n",
      "less clusterings (69) than querybudget (100), correcting by repeating last ARI5\n",
      "less clusterings (90) than querybudget (100), correcting by repeating last ARI5\n",
      "less clusterings (56) than querybudget (100), correcting by repeating last ARI5\n",
      "less clusterings (59) than querybudget (100), correcting by repeating last ARI5\n",
      "less clusterings (85) than querybudget (100), correcting by repeating last ARI5\n",
      "less clusterings (26) than querybudget (100), correcting by repeating last ARI5\n",
      "less clusterings (99) than querybudget (100), correcting by repeating last ARI5\n",
      "less clusterings (33) than querybudget (100), correcting by repeating last ARI5\n",
      "less clusterings (57) than querybudget (100), correcting by repeating last ARI5\n",
      "less clusterings (71) than querybudget (100), correcting by repeating last ARI5\n",
      "less clusterings (90) than querybudget (100), correcting by repeating last ARI5\n",
      "less clusterings (88) than querybudget (100), correcting by repeating last ARI5\n",
      "less clusterings (17) than querybudget (100), correcting by repeating last ARI5\n",
      "less clusterings (61) than querybudget (100), correcting by repeating last ARI5\n",
      "less clusterings (84) than querybudget (100), correcting by repeating last ARI5\n",
      "less clusterings (89) than querybudget (100), correcting by repeating last ARI5\n",
      "less clusterings (86) than querybudget (100), correcting by repeating last ARI5\n",
      "less clusterings (51) than querybudget (100), correcting by repeating last ARI5\n",
      "less clusterings (80) than querybudget (100), correcting by repeating last ARI5\n",
      "less clusterings (16) than querybudget (100), correcting by repeating last ARI5\n",
      "less clusterings (40) than querybudget (100), correcting by repeating last ARI5\n",
      "less clusterings (91) than querybudget (100), correcting by repeating last ARI5\n",
      "less clusterings (44) than querybudget (100), correcting by repeating last ARI5\n",
      "less clusterings (42) than querybudget (100), correcting by repeating last ARI5\n",
      "less clusterings (31) than querybudget (100), correcting by repeating last ARI5\n",
      "less clusterings (65) than querybudget (100), correcting by repeating last ARI5\n",
      "less clusterings (31) than querybudget (100), correcting by repeating last ARI5\n",
      "less clusterings (79) than querybudget (100), correcting by repeating last ARI5\n",
      "less clusterings (11) than querybudget (100), correcting by repeating last ARI5\n",
      "less clusterings (70) than querybudget (100), correcting by repeating last ARI5\n",
      "less clusterings (81) than querybudget (100), correcting by repeating last ARI5\n",
      "less clusterings (27) than querybudget (100), correcting by repeating last ARI5\n",
      "less clusterings (25) than querybudget (100), correcting by repeating last ARI5\n",
      "less clusterings (49) than querybudget (100), correcting by repeating last ARI5\n",
      "less clusterings (57) than querybudget (100), correcting by repeating last ARI5\n",
      "less clusterings (9) than querybudget (100), correcting by repeating last ARI5\n",
      "less clusterings (11) than querybudget (100), correcting by repeating last ARI5\n",
      "less clusterings (53) than querybudget (100), correcting by repeating last ARI5\n",
      "less clusterings (98) than querybudget (100), correcting by repeating last ARI5\n",
      "less clusterings (94) than querybudget (100), correcting by repeating last ARI5\n",
      "less clusterings (28) than querybudget (100), correcting by repeating last ARI5\n",
      "less clusterings (95) than querybudget (100), correcting by repeating last ARI5\n"
     ]
    },
    {
     "name": "stderr",
     "output_type": "stream",
     "text": [
      " 75%|███████▌  | 3/4 [00:22<00:07,  7.59s/it]"
     ]
    },
    {
     "name": "stdout",
     "output_type": "stream",
     "text": [
      "less clusterings (98) than querybudget (100), correcting by repeating last ARI10\n",
      "less clusterings (60) than querybudget (100), correcting by repeating last ARI10\n",
      "less clusterings (67) than querybudget (100), correcting by repeating last ARI10\n",
      "less clusterings (70) than querybudget (100), correcting by repeating last ARI10\n",
      "less clusterings (94) than querybudget (100), correcting by repeating last ARI10\n",
      "less clusterings (15) than querybudget (100), correcting by repeating last ARI10\n",
      "less clusterings (47) than querybudget (100), correcting by repeating last ARI10\n",
      "less clusterings (83) than querybudget (100), correcting by repeating last ARI10\n",
      "less clusterings (49) than querybudget (100), correcting by repeating last ARI10\n",
      "less clusterings (81) than querybudget (100), correcting by repeating last ARI10\n",
      "less clusterings (75) than querybudget (100), correcting by repeating last ARI10\n",
      "less clusterings (45) than querybudget (100), correcting by repeating last ARI10\n",
      "less clusterings (54) than querybudget (100), correcting by repeating last ARI10\n",
      "less clusterings (58) than querybudget (100), correcting by repeating last ARI10\n",
      "less clusterings (22) than querybudget (100), correcting by repeating last ARI10\n",
      "less clusterings (45) than querybudget (100), correcting by repeating last ARI10\n",
      "less clusterings (76) than querybudget (100), correcting by repeating last ARI10\n",
      "less clusterings (15) than querybudget (100), correcting by repeating last ARI10\n",
      "less clusterings (32) than querybudget (100), correcting by repeating last ARI10\n",
      "less clusterings (46) than querybudget (100), correcting by repeating last ARI10\n",
      "less clusterings (78) than querybudget (100), correcting by repeating last ARI10\n",
      "less clusterings (42) than querybudget (100), correcting by repeating last ARI10\n",
      "less clusterings (70) than querybudget (100), correcting by repeating last ARI10\n",
      "less clusterings (84) than querybudget (100), correcting by repeating last ARI10\n",
      "less clusterings (97) than querybudget (100), correcting by repeating last ARI10\n",
      "less clusterings (44) than querybudget (100), correcting by repeating last ARI10\n",
      "less clusterings (88) than querybudget (100), correcting by repeating last ARI10\n",
      "less clusterings (51) than querybudget (100), correcting by repeating last ARI10\n",
      "less clusterings (79) than querybudget (100), correcting by repeating last ARI10\n",
      "less clusterings (45) than querybudget (100), correcting by repeating last ARI10\n",
      "less clusterings (53) than querybudget (100), correcting by repeating last ARI10\n",
      "less clusterings (22) than querybudget (100), correcting by repeating last ARI10\n",
      "less clusterings (32) than querybudget (100), correcting by repeating last ARI10\n",
      "less clusterings (70) than querybudget (100), correcting by repeating last ARI10\n",
      "less clusterings (36) than querybudget (100), correcting by repeating last ARI10\n",
      "less clusterings (76) than querybudget (100), correcting by repeating last ARI10\n",
      "less clusterings (48) than querybudget (100), correcting by repeating last ARI10\n",
      "less clusterings (80) than querybudget (100), correcting by repeating last ARI10\n",
      "less clusterings (95) than querybudget (100), correcting by repeating last ARI10\n",
      "less clusterings (88) than querybudget (100), correcting by repeating last ARI10\n",
      "less clusterings (50) than querybudget (100), correcting by repeating last ARI10\n",
      "less clusterings (81) than querybudget (100), correcting by repeating last ARI10\n",
      "less clusterings (35) than querybudget (100), correcting by repeating last ARI10\n",
      "less clusterings (34) than querybudget (100), correcting by repeating last ARI10\n",
      "less clusterings (50) than querybudget (100), correcting by repeating last ARI10\n",
      "less clusterings (68) than querybudget (100), correcting by repeating last ARI10\n",
      "less clusterings (21) than querybudget (100), correcting by repeating last ARI10\n",
      "less clusterings (11) than querybudget (100), correcting by repeating last ARI10\n",
      "less clusterings (61) than querybudget (100), correcting by repeating last ARI10\n",
      "less clusterings (19) than querybudget (100), correcting by repeating last ARI10\n",
      "less clusterings (70) than querybudget (100), correcting by repeating last ARI10\n",
      "less clusterings (83) than querybudget (100), correcting by repeating last ARI10\n",
      "less clusterings (84) than querybudget (100), correcting by repeating last ARI10\n",
      "less clusterings (70) than querybudget (100), correcting by repeating last ARI10\n",
      "less clusterings (88) than querybudget (100), correcting by repeating last ARI10\n",
      "less clusterings (91) than querybudget (100), correcting by repeating last ARI10\n"
     ]
    },
    {
     "name": "stderr",
     "output_type": "stream",
     "text": [
      "100%|██████████| 4/4 [00:30<00:00,  7.56s/it]\n"
     ]
    },
    {
     "name": "stdout",
     "output_type": "stream",
     "text": [
      "calculating average rank\n",
      "0.07318382394465822\n",
      "0.07856603636560741\n",
      "0.07957117301489963\n",
      "0.2007159151620091\n",
      "all resulting plots are in \\Users\\nicol\\Documents\\KUL 2020-2021\\thesis\\code\\results\\results\\figures\\presentation_comparison_1\n"
     ]
    }
   ],
   "source": [
    "test_name_1 = \"standard_COBRAS\"\n",
    "test_name_5 = \"5\"\n",
    "test_name_6 = \"6\"\n",
    "test_name_10 = \"10\"\n",
    "test_names = [test_name_1, test_name_5, test_name_6, test_name_10]#,test_name_1, test_name_3, test_name_5, test_name_6, test_name_7, test_name_8, test_name_9, test_name_10]\n",
    "comparison_name = 'presentation_comparison_1'\n",
    "nb_of_cores = 4\n",
    "query_budget = 100\n",
    "\n",
    "#print(clusterer_1.logger.nr_reused_constraints)\n",
    "\n",
    "calculate_n_times_n_fold_aris_for_testnames(test_names, nb_cores=nb_of_cores)\n",
    "calculate_average_aris(test_names, query_budget)\n",
    "calculate_and_write_aligned_rank(test_names,comparison_name)\n",
    "\n",
    "plot_average_ARI_per_dataset(comparison_name, test_names, test_names)\n",
    "plot_overall_average_ARI(comparison_name, test_names, test_names)\n",
    "plot_rank_comparison_file(comparison_name, test_names, test_names)\n",
    "\n",
    "calculate_and_plot_query_reuse(comparison_name, test_names)\n",
    "\n",
    "print(f\"all resulting plots are in {Path(FIGURE_DIR)/comparison_name}\")"
   ]
  },
  {
   "cell_type": "code",
   "execution_count": null,
   "metadata": {},
   "outputs": [],
   "source": []
  }
 ],
 "metadata": {
  "kernelspec": {
   "display_name": "Python 3",
   "language": "python",
   "name": "python3"
  },
  "language_info": {
   "codemirror_mode": {
    "name": "ipython",
    "version": 3
   },
   "file_extension": ".py",
   "mimetype": "text/x-python",
   "name": "python",
   "nbconvert_exporter": "python",
   "pygments_lexer": "ipython3",
   "version": "3.8.3"
  }
 },
 "nbformat": 4,
 "nbformat_minor": 4
}
