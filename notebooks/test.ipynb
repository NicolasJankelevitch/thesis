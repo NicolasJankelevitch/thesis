{
 "cells": [
  {
   "cell_type": "code",
   "execution_count": 1,
   "metadata": {},
   "outputs": [
    {
     "name": "stdout",
     "output_type": "stream",
     "text": [
      "module path of dont_know added\n",
      "module path of testing added\n",
      "imports succeeded\n"
     ]
    }
   ],
   "source": [
    "import os\n",
    "import sys\n",
    "module_path_dont_know = os.path.abspath(os.path.join('../COBRAS_dont_know'))\n",
    "module_path_testing = os.path.abspath(os.path.join('../COBRAS_testing'))\n",
    "\n",
    "if module_path_dont_know not in sys.path:\n",
    "    sys.path.append(module_path_dont_know)\n",
    "    print(\"module path of dont_know added\")\n",
    "\n",
    "if module_path_testing not in sys.path:\n",
    "    sys.path.append(module_path_testing)\n",
    "    print(\"module path of testing added\")\n",
    "    \n",
    "from before_clustering.generate_folds import generate_folds_for_dataset\n",
    "from clustering_algorithms.kmeans_fixed_representative import KmeansFixedRepresentative\n",
    "from clustering_algorithms.kmeans_plus_fixed_representative import KmeansPlusFixedRepresentative\n",
    "from cobras.cobras import COBRAS\n",
    "from cobras.cobras_logger import COBRASLogger\n",
    "from cobras.querier.labelquerier import LabelQuerier\n",
    "from cobras.querier.weak_querier import WeakQuerier\n",
    "from cobras.super_instances.superinstance_select_representative import SuperInstance_select_representative_Builder\n",
    "from config import FOLD_RESULT_DIR, FIGURE_DIR\n",
    "from evaluate_clusterings.calculate_aligned_rank import calculate_and_write_aligned_rank\n",
    "from evaluate_clusterings.calculate_aris import calculate_n_times_n_fold_aris_for_testnames\n",
    "from evaluate_clusterings.calculate_average_aris import calculate_average_aris\n",
    "from generate_clusterings.clustering_task import make_n_run_10_fold_cross_validation\n",
    "from heuristics.select_super_instance_heuristics import *\n",
    "from heuristics.splitlevel_estimation_strategy import *\n",
    "from pathlib import Path\n",
    "from present_results.plot_aligned_rank import plot_rank_comparison_file\n",
    "from present_results.plot_aris import plot_average_ARI_per_dataset\n",
    "from present_results.plot_aris import plot_overall_average_ARI\n",
    "from present_results.plot_query_reuse import calculate_and_plot_query_reuse\n",
    "from present_results.plot_query_reuse_per_dataset import calculate_and_plot_query_reuse_per_dataset\n",
    "from run_locally.run_tests import run_clustering_tasks_locally\n",
    "from util.datasets import Dataset\n",
    "\n",
    "print(\"imports succeeded\")"
   ]
  },
  {
   "cell_type": "code",
   "execution_count": 2,
   "metadata": {},
   "outputs": [
    {
     "name": "stdout",
     "output_type": "stream",
     "text": [
      "done\n"
     ]
    }
   ],
   "source": [
    "if not Path(FOLD_RESULT_DIR).exists():\n",
    "    generate_folds_for_dataset()\n",
    "print(\"done\")"
   ]
  },
  {
   "cell_type": "code",
   "execution_count": 3,
   "metadata": {},
   "outputs": [
    {
     "name": "stdout",
     "output_type": "stream",
     "text": [
      "done\n"
     ]
    }
   ],
   "source": [
    "splitstrat = StandardSplitLevelEstimationStrategyAlwayskmeans(SelectMostInstancesHeuristic())\n",
    "clusterer_1 = COBRAS()\n",
    "querier = LabelQuerier(None,100)\n",
    "#querier = WeakQuerier(data.data,data.target,1000,'local_nondet')\n",
    "#querier = WeakQuerier(None, None ,1000,'local_nondet')\n",
    "test_name_1 = \"standard_COBRAS\"\n",
    "all_dataset_names = Dataset.get_standard_dataset_names()#[\"iris\"]#\n",
    "clustering_tasks = make_n_run_10_fold_cross_validation(test_name_1, clusterer_1,querier,all_dataset_names,3)\n",
    "print(\"done\")"
   ]
  },
  {
   "cell_type": "code",
   "execution_count": 4,
   "metadata": {},
   "outputs": [],
   "source": [
    "#clusterer_2 = COBRAS(cluster_algo = KmeansFixedRepresentative())\n",
    "#test_name_2 = \"2\"\n",
    "#clustering_tasks.extend(make_n_run_10_fold_cross_validation(test_name_2, clusterer_2, querier, all_dataset_names, 3))\n",
    "#print(\"done\")"
   ]
  },
  {
   "cell_type": "code",
   "execution_count": 5,
   "metadata": {},
   "outputs": [],
   "source": [
    "#clusterer_3 = COBRAS(cluster_algo = KmeansPlusFixedRepresentative())\n",
    "#test_name_3 = \"3\"\n",
    "#clustering_tasks.extend(make_n_run_10_fold_cross_validation(test_name_3, clusterer_3, querier, all_dataset_names, 3))\n",
    "#print(\"done\")"
   ]
  },
  {
   "cell_type": "code",
   "execution_count": 6,
   "metadata": {},
   "outputs": [
    {
     "name": "stdout",
     "output_type": "stream",
     "text": [
      "done\n"
     ]
    }
   ],
   "source": [
    "#clusterer_4 = COBRAS(cluster_algo = KmeansFixedRepresentative(), splitlevel_strategy = splitstrat)\n",
    "#test_name_4 = \"4\"\n",
    "#clustering_tasks=make_n_run_10_fold_cross_validation(test_name_4, clusterer_4, querier, all_dataset_names, 3)\n",
    "\n",
    "#clustering_tasks.extend(make_n_run_10_fold_cross_validation(test_name_4, clusterer_4, querier, all_dataset_names, 3))\n",
    "print(\"done\")"
   ]
  },
  {
   "cell_type": "code",
   "execution_count": 7,
   "metadata": {},
   "outputs": [],
   "source": [
    "#clusterer_5 = COBRAS(cluster_algo = KmeansPlusFixedRepresentative(), splitlevel_strategy=splitstrat)\n",
    "#test_name_5 = \"5\"\n",
    "#clustering_tasks.extend(make_n_run_10_fold_cross_validation(test_name_5, clusterer_5, querier, all_dataset_names, 3))\n",
    "#print(\"done\")"
   ]
  },
  {
   "cell_type": "code",
   "execution_count": 8,
   "metadata": {},
   "outputs": [
    {
     "name": "stdout",
     "output_type": "stream",
     "text": [
      "done\n"
     ]
    }
   ],
   "source": [
    "clusterer_6 = COBRAS(superinstance_builder= SuperInstance_select_representative_Builder())\n",
    "test_name_6 = \"6\"\n",
    "clustering_tasks.extend(make_n_run_10_fold_cross_validation(test_name_6, clusterer_6, querier, all_dataset_names, 3))\n",
    "print(\"done\")"
   ]
  },
  {
   "cell_type": "code",
   "execution_count": 9,
   "metadata": {},
   "outputs": [],
   "source": [
    "#clusterer_7 = COBRAS(cluster_algo = KmeansFixedRepresentative(), superinstance_builder= SuperInstance_select_representative_Builder())\n",
    "#test_name_7 = \"7\"\n",
    "#clustering_tasks.extend(make_n_run_10_fold_cross_validation(test_name_7, clusterer_7, querier, all_dataset_names, 3))\n",
    "#print(\"done\")"
   ]
  },
  {
   "cell_type": "code",
   "execution_count": 10,
   "metadata": {},
   "outputs": [],
   "source": [
    "#clusterer_8 = COBRAS(cluster_algo = KmeansPlusFixedRepresentative(),superinstance_builder= SuperInstance_select_representative_Builder())\n",
    "#test_name_8 = \"8\"\n",
    "#clustering_tasks.extend(make_n_run_10_fold_cross_validation(test_name_8, clusterer_8, querier, all_dataset_names, 3))\n",
    "#print(\"done\")"
   ]
  },
  {
   "cell_type": "code",
   "execution_count": 11,
   "metadata": {},
   "outputs": [
    {
     "name": "stdout",
     "output_type": "stream",
     "text": [
      "done\n"
     ]
    }
   ],
   "source": [
    "clusterer_9 = COBRAS(cluster_algo = KmeansFixedRepresentative(),superinstance_builder= SuperInstance_select_representative_Builder(), splitlevel_strategy=splitstrat)\n",
    "test_name_9 = \"9\"\n",
    "clustering_tasks.extend(make_n_run_10_fold_cross_validation(test_name_9, clusterer_9, querier, all_dataset_names, 3))\n",
    "print(\"done\")"
   ]
  },
  {
   "cell_type": "code",
   "execution_count": 12,
   "metadata": {},
   "outputs": [
    {
     "name": "stdout",
     "output_type": "stream",
     "text": [
      "done\n"
     ]
    }
   ],
   "source": [
    "clusterer_10 = COBRAS(cluster_algo = KmeansPlusFixedRepresentative(),superinstance_builder= SuperInstance_select_representative_Builder() , splitlevel_strategy=splitstrat)\n",
    "test_name_10 = \"10\"\n",
    "clustering_tasks.extend(make_n_run_10_fold_cross_validation(test_name_10, clusterer_10, querier, all_dataset_names, 3))\n",
    "print(\"done\")"
   ]
  },
  {
   "cell_type": "code",
   "execution_count": 13,
   "metadata": {},
   "outputs": [
    {
     "name": "stderr",
     "output_type": "stream",
     "text": [
      "100%|██████████| 2520/2520 [7:14:14<00:00, 10.34s/it]     "
     ]
    },
    {
     "name": "stdout",
     "output_type": "stream",
     "text": [
      "done\n"
     ]
    },
    {
     "name": "stderr",
     "output_type": "stream",
     "text": [
      "\n"
     ]
    }
   ],
   "source": [
    "run_clustering_tasks_locally(clustering_tasks,4)\n",
    "print(\"done\")"
   ]
  },
  {
   "cell_type": "code",
   "execution_count": 14,
   "metadata": {},
   "outputs": [
    {
     "name": "stderr",
     "output_type": "stream",
     "text": [
      "\r",
      "  0%|          | 0/2520 [00:00<?, ?it/s]"
     ]
    },
    {
     "name": "stdout",
     "output_type": "stream",
     "text": [
      "Calculating ARIs for n-times n-fold:  ['standard_COBRAS', '6', '9', '10']\n",
      "running with 4 cores\n"
     ]
    },
    {
     "name": "stderr",
     "output_type": "stream",
     "text": [
      "100%|██████████| 2520/2520 [09:30<00:00,  4.42it/s]\n",
      "  0%|          | 0/4 [00:00<?, ?it/s]"
     ]
    },
    {
     "name": "stdout",
     "output_type": "stream",
     "text": [
      "Calculating average ARIs\n"
     ]
    },
    {
     "name": "stderr",
     "output_type": "stream",
     "text": [
      " 50%|█████     | 2/4 [00:06<00:06,  3.47s/it]"
     ]
    },
    {
     "name": "stdout",
     "output_type": "stream",
     "text": [
      "less clusterings (73) than querybudget (100), correcting by repeating last ARI9\n",
      "less clusterings (29) than querybudget (100), correcting by repeating last ARI9\n",
      "less clusterings (36) than querybudget (100), correcting by repeating last ARI9\n",
      "less clusterings (48) than querybudget (100), correcting by repeating last ARI9\n",
      "less clusterings (58) than querybudget (100), correcting by repeating last ARI9\n",
      "less clusterings (89) than querybudget (100), correcting by repeating last ARI9\n",
      "less clusterings (76) than querybudget (100), correcting by repeating last ARI9\n",
      "less clusterings (30) than querybudget (100), correcting by repeating last ARI9\n",
      "less clusterings (74) than querybudget (100), correcting by repeating last ARI9\n",
      "less clusterings (42) than querybudget (100), correcting by repeating last ARI9\n",
      "less clusterings (49) than querybudget (100), correcting by repeating last ARI9\n",
      "less clusterings (58) than querybudget (100), correcting by repeating last ARI9\n",
      "less clusterings (3) than querybudget (100), correcting by repeating last ARI9\n",
      "less clusterings (75) than querybudget (100), correcting by repeating last ARI9\n",
      "less clusterings (25) than querybudget (100), correcting by repeating last ARI9\n",
      "less clusterings (73) than querybudget (100), correcting by repeating last ARI9\n",
      "less clusterings (72) than querybudget (100), correcting by repeating last ARI9\n",
      "less clusterings (20) than querybudget (100), correcting by repeating last ARI9\n",
      "less clusterings (53) than querybudget (100), correcting by repeating last ARI9\n",
      "less clusterings (43) than querybudget (100), correcting by repeating last ARI9\n",
      "less clusterings (33) than querybudget (100), correcting by repeating last ARI9\n",
      "less clusterings (75) than querybudget (100), correcting by repeating last ARI9\n",
      "less clusterings (37) than querybudget (100), correcting by repeating last ARI9\n",
      "less clusterings (40) than querybudget (100), correcting by repeating last ARI9\n",
      "less clusterings (23) than querybudget (100), correcting by repeating last ARI9\n",
      "less clusterings (45) than querybudget (100), correcting by repeating last ARI9\n",
      "less clusterings (80) than querybudget (100), correcting by repeating last ARI9\n",
      "less clusterings (20) than querybudget (100), correcting by repeating last ARI9\n",
      "less clusterings (57) than querybudget (100), correcting by repeating last ARI9\n",
      "less clusterings (20) than querybudget (100), correcting by repeating last ARI9\n",
      "less clusterings (49) than querybudget (100), correcting by repeating last ARI9\n",
      "less clusterings (36) than querybudget (100), correcting by repeating last ARI9\n",
      "less clusterings (63) than querybudget (100), correcting by repeating last ARI9\n",
      "less clusterings (81) than querybudget (100), correcting by repeating last ARI9\n",
      "less clusterings (61) than querybudget (100), correcting by repeating last ARI9\n",
      "less clusterings (15) than querybudget (100), correcting by repeating last ARI9\n",
      "less clusterings (65) than querybudget (100), correcting by repeating last ARI9\n",
      "less clusterings (22) than querybudget (100), correcting by repeating last ARI9\n",
      "less clusterings (17) than querybudget (100), correcting by repeating last ARI9\n",
      "less clusterings (70) than querybudget (100), correcting by repeating last ARI9\n",
      "less clusterings (55) than querybudget (100), correcting by repeating last ARI9\n",
      "less clusterings (2) than querybudget (100), correcting by repeating last ARI9\n",
      "less clusterings (27) than querybudget (100), correcting by repeating last ARI9\n",
      "less clusterings (51) than querybudget (100), correcting by repeating last ARI9\n",
      "less clusterings (29) than querybudget (100), correcting by repeating last ARI9\n",
      "less clusterings (52) than querybudget (100), correcting by repeating last ARI9\n",
      "less clusterings (17) than querybudget (100), correcting by repeating last ARI9\n",
      "less clusterings (32) than querybudget (100), correcting by repeating last ARI9\n",
      "less clusterings (85) than querybudget (100), correcting by repeating last ARI9\n",
      "less clusterings (68) than querybudget (100), correcting by repeating last ARI9\n",
      "less clusterings (89) than querybudget (100), correcting by repeating last ARI9\n",
      "less clusterings (92) than querybudget (100), correcting by repeating last ARI9\n",
      "less clusterings (93) than querybudget (100), correcting by repeating last ARI9\n",
      "less clusterings (99) than querybudget (100), correcting by repeating last ARI9\n",
      "less clusterings (4) than querybudget (100), correcting by repeating last ARI9\n",
      "less clusterings (28) than querybudget (100), correcting by repeating last ARI9\n",
      "less clusterings (14) than querybudget (100), correcting by repeating last ARI9\n",
      "less clusterings (4) than querybudget (100), correcting by repeating last ARI9\n",
      "less clusterings (9) than querybudget (100), correcting by repeating last ARI9\n",
      "less clusterings (12) than querybudget (100), correcting by repeating last ARI9\n",
      "less clusterings (35) than querybudget (100), correcting by repeating last ARI9\n",
      "less clusterings (6) than querybudget (100), correcting by repeating last ARI9\n",
      "less clusterings (48) than querybudget (100), correcting by repeating last ARI9\n",
      "less clusterings (47) than querybudget (100), correcting by repeating last ARI9\n",
      "less clusterings (14) than querybudget (100), correcting by repeating last ARI9\n",
      "less clusterings (23) than querybudget (100), correcting by repeating last ARI9\n",
      "less clusterings (39) than querybudget (100), correcting by repeating last ARI9\n",
      "less clusterings (4) than querybudget (100), correcting by repeating last ARI9\n",
      "less clusterings (65) than querybudget (100), correcting by repeating last ARI9\n",
      "less clusterings (24) than querybudget (100), correcting by repeating last ARI9\n",
      "less clusterings (35) than querybudget (100), correcting by repeating last ARI9\n",
      "less clusterings (8) than querybudget (100), correcting by repeating last ARI9\n",
      "less clusterings (38) than querybudget (100), correcting by repeating last ARI9\n",
      "less clusterings (80) than querybudget (100), correcting by repeating last ARI9\n",
      "less clusterings (9) than querybudget (100), correcting by repeating last ARI9\n",
      "less clusterings (31) than querybudget (100), correcting by repeating last ARI9\n",
      "less clusterings (43) than querybudget (100), correcting by repeating last ARI9\n",
      "less clusterings (58) than querybudget (100), correcting by repeating last ARI9\n",
      "less clusterings (32) than querybudget (100), correcting by repeating last ARI9\n",
      "less clusterings (4) than querybudget (100), correcting by repeating last ARI9\n",
      "less clusterings (75) than querybudget (100), correcting by repeating last ARI9\n",
      "less clusterings (31) than querybudget (100), correcting by repeating last ARI9\n",
      "less clusterings (46) than querybudget (100), correcting by repeating last ARI9\n",
      "less clusterings (93) than querybudget (100), correcting by repeating last ARI9\n",
      "less clusterings (89) than querybudget (100), correcting by repeating last ARI9\n",
      "less clusterings (78) than querybudget (100), correcting by repeating last ARI9\n",
      "less clusterings (57) than querybudget (100), correcting by repeating last ARI9\n",
      "less clusterings (75) than querybudget (100), correcting by repeating last ARI9\n",
      "less clusterings (55) than querybudget (100), correcting by repeating last ARI9\n",
      "less clusterings (31) than querybudget (100), correcting by repeating last ARI9\n",
      "less clusterings (2) than querybudget (100), correcting by repeating last ARI9\n",
      "less clusterings (18) than querybudget (100), correcting by repeating last ARI9\n",
      "less clusterings (78) than querybudget (100), correcting by repeating last ARI9\n",
      "less clusterings (4) than querybudget (100), correcting by repeating last ARI9\n",
      "less clusterings (3) than querybudget (100), correcting by repeating last ARI9\n",
      "less clusterings (81) than querybudget (100), correcting by repeating last ARI9\n",
      "less clusterings (26) than querybudget (100), correcting by repeating last ARI9\n",
      "less clusterings (22) than querybudget (100), correcting by repeating last ARI9\n",
      "less clusterings (76) than querybudget (100), correcting by repeating last ARI9\n",
      "less clusterings (8) than querybudget (100), correcting by repeating last ARI9\n",
      "less clusterings (4) than querybudget (100), correcting by repeating last ARI9\n",
      "less clusterings (3) than querybudget (100), correcting by repeating last ARI9\n",
      "less clusterings (3) than querybudget (100), correcting by repeating last ARI9\n",
      "less clusterings (41) than querybudget (100), correcting by repeating last ARI9\n",
      "less clusterings (61) than querybudget (100), correcting by repeating last ARI9\n",
      "less clusterings (24) than querybudget (100), correcting by repeating last ARI9\n",
      "less clusterings (3) than querybudget (100), correcting by repeating last ARI9\n",
      "less clusterings (81) than querybudget (100), correcting by repeating last ARI9\n",
      "less clusterings (7) than querybudget (100), correcting by repeating last ARI9\n",
      "less clusterings (10) than querybudget (100), correcting by repeating last ARI9\n",
      "less clusterings (4) than querybudget (100), correcting by repeating last ARI9\n"
     ]
    },
    {
     "name": "stdout",
     "output_type": "stream",
     "text": [
      "less clusterings (89) than querybudget (100), correcting by repeating last ARI9\n",
      "less clusterings (73) than querybudget (100), correcting by repeating last ARI9\n",
      "less clusterings (78) than querybudget (100), correcting by repeating last ARI9\n",
      "less clusterings (11) than querybudget (100), correcting by repeating last ARI9\n",
      "less clusterings (50) than querybudget (100), correcting by repeating last ARI9\n",
      "less clusterings (47) than querybudget (100), correcting by repeating last ARI9\n",
      "less clusterings (31) than querybudget (100), correcting by repeating last ARI9\n",
      "less clusterings (90) than querybudget (100), correcting by repeating last ARI9\n",
      "less clusterings (9) than querybudget (100), correcting by repeating last ARI9\n",
      "less clusterings (19) than querybudget (100), correcting by repeating last ARI9\n",
      "less clusterings (48) than querybudget (100), correcting by repeating last ARI9\n",
      "less clusterings (63) than querybudget (100), correcting by repeating last ARI9\n",
      "less clusterings (60) than querybudget (100), correcting by repeating last ARI9\n",
      "less clusterings (66) than querybudget (100), correcting by repeating last ARI9\n",
      "less clusterings (78) than querybudget (100), correcting by repeating last ARI9\n",
      "less clusterings (66) than querybudget (100), correcting by repeating last ARI9\n",
      "less clusterings (23) than querybudget (100), correcting by repeating last ARI9\n",
      "less clusterings (48) than querybudget (100), correcting by repeating last ARI9\n",
      "less clusterings (93) than querybudget (100), correcting by repeating last ARI9\n"
     ]
    },
    {
     "name": "stderr",
     "output_type": "stream",
     "text": [
      "\r",
      " 75%|███████▌  | 3/4 [00:10<00:03,  3.43s/it]"
     ]
    },
    {
     "name": "stdout",
     "output_type": "stream",
     "text": [
      "less clusterings (96) than querybudget (100), correcting by repeating last ARI9\n",
      "less clusterings (99) than querybudget (100), correcting by repeating last ARI9\n",
      "less clusterings (82) than querybudget (100), correcting by repeating last ARI9\n",
      "less clusterings (59) than querybudget (100), correcting by repeating last ARI9\n",
      "less clusterings (98) than querybudget (100), correcting by repeating last ARI9\n",
      "less clusterings (56) than querybudget (100), correcting by repeating last ARI9\n",
      "less clusterings (82) than querybudget (100), correcting by repeating last ARI10\n",
      "less clusterings (69) than querybudget (100), correcting by repeating last ARI10\n",
      "less clusterings (56) than querybudget (100), correcting by repeating last ARI10\n",
      "less clusterings (67) than querybudget (100), correcting by repeating last ARI10\n",
      "less clusterings (62) than querybudget (100), correcting by repeating last ARI10\n",
      "less clusterings (40) than querybudget (100), correcting by repeating last ARI10\n",
      "less clusterings (97) than querybudget (100), correcting by repeating last ARI10\n",
      "less clusterings (70) than querybudget (100), correcting by repeating last ARI10\n",
      "less clusterings (22) than querybudget (100), correcting by repeating last ARI10\n",
      "less clusterings (43) than querybudget (100), correcting by repeating last ARI10\n",
      "less clusterings (81) than querybudget (100), correcting by repeating last ARI10\n",
      "less clusterings (72) than querybudget (100), correcting by repeating last ARI10\n",
      "less clusterings (37) than querybudget (100), correcting by repeating last ARI10\n",
      "less clusterings (36) than querybudget (100), correcting by repeating last ARI10\n",
      "less clusterings (57) than querybudget (100), correcting by repeating last ARI10\n",
      "less clusterings (47) than querybudget (100), correcting by repeating last ARI10\n",
      "less clusterings (49) than querybudget (100), correcting by repeating last ARI10\n",
      "less clusterings (87) than querybudget (100), correcting by repeating last ARI10\n",
      "less clusterings (98) than querybudget (100), correcting by repeating last ARI10\n",
      "less clusterings (64) than querybudget (100), correcting by repeating last ARI10\n",
      "less clusterings (83) than querybudget (100), correcting by repeating last ARI10\n",
      "less clusterings (76) than querybudget (100), correcting by repeating last ARI10\n",
      "less clusterings (59) than querybudget (100), correcting by repeating last ARI10\n",
      "less clusterings (9) than querybudget (100), correcting by repeating last ARI10\n",
      "less clusterings (97) than querybudget (100), correcting by repeating last ARI10\n",
      "less clusterings (48) than querybudget (100), correcting by repeating last ARI10\n",
      "less clusterings (26) than querybudget (100), correcting by repeating last ARI10\n",
      "less clusterings (79) than querybudget (100), correcting by repeating last ARI10\n",
      "less clusterings (42) than querybudget (100), correcting by repeating last ARI10\n",
      "less clusterings (44) than querybudget (100), correcting by repeating last ARI10\n",
      "less clusterings (47) than querybudget (100), correcting by repeating last ARI10\n",
      "less clusterings (68) than querybudget (100), correcting by repeating last ARI10\n",
      "less clusterings (17) than querybudget (100), correcting by repeating last ARI10\n",
      "less clusterings (76) than querybudget (100), correcting by repeating last ARI10\n",
      "less clusterings (70) than querybudget (100), correcting by repeating last ARI10\n",
      "less clusterings (91) than querybudget (100), correcting by repeating last ARI10\n",
      "less clusterings (75) than querybudget (100), correcting by repeating last ARI10\n",
      "less clusterings (84) than querybudget (100), correcting by repeating last ARI10\n",
      "less clusterings (68) than querybudget (100), correcting by repeating last ARI10\n",
      "less clusterings (93) than querybudget (100), correcting by repeating last ARI10\n",
      "less clusterings (38) than querybudget (100), correcting by repeating last ARI10\n",
      "less clusterings (93) than querybudget (100), correcting by repeating last ARI10\n",
      "less clusterings (3) than querybudget (100), correcting by repeating last ARI10\n",
      "less clusterings (95) than querybudget (100), correcting by repeating last ARI10\n",
      "less clusterings (59) than querybudget (100), correcting by repeating last ARI10\n",
      "less clusterings (3) than querybudget (100), correcting by repeating last ARI10\n",
      "less clusterings (10) than querybudget (100), correcting by repeating last ARI10\n",
      "less clusterings (15) than querybudget (100), correcting by repeating last ARI10\n",
      "less clusterings (2) than querybudget (100), correcting by repeating last ARI10\n",
      "less clusterings (2) than querybudget (100), correcting by repeating last ARI10\n",
      "less clusterings (92) than querybudget (100), correcting by repeating last ARI10\n",
      "less clusterings (84) than querybudget (100), correcting by repeating last ARI10\n"
     ]
    },
    {
     "name": "stderr",
     "output_type": "stream",
     "text": [
      "100%|██████████| 4/4 [00:13<00:00,  3.39s/it]\n"
     ]
    },
    {
     "name": "stdout",
     "output_type": "stream",
     "text": [
      "calculating average rank\n",
      "/Users/nicol/Documents/KUL 2020-2021/thesis/code/results\\results\\figures\\new_counting\\breast-cancer-wisconsin.png\n",
      "[139157, 138994, 90722, 79045]\n",
      "[20658, 19163, 12070, 11613]\n",
      "[3000, 3000, 2902, 3000]\n",
      "plotted /Users/nicol/Documents/KUL 2020-2021/thesis/code/results\\results\\figures\\new_counting\\breast-cancer-wisconsin.png\n",
      "/Users/nicol/Documents/KUL 2020-2021/thesis/code/results\\results\\figures\\new_counting\\column_2C.png\n",
      "[9758, 15745, 17495, 13896]\n",
      "[2930, 5876, 4265, 4292]\n",
      "[3000, 3000, 2936, 3000]\n",
      "plotted /Users/nicol/Documents/KUL 2020-2021/thesis/code/results\\results\\figures\\new_counting\\column_2C.png\n",
      "/Users/nicol/Documents/KUL 2020-2021/thesis/code/results\\results\\figures\\new_counting\\dermatology.png\n",
      "[163693, 374677, 128919, 102106]\n",
      "[28683, 42952, 18652, 19269]\n",
      "[3000, 3000, 3000, 3000]\n",
      "plotted /Users/nicol/Documents/KUL 2020-2021/thesis/code/results\\results\\figures\\new_counting\\dermatology.png\n",
      "/Users/nicol/Documents/KUL 2020-2021/thesis/code/results\\results\\figures\\new_counting\\ecoli.png\n",
      "[26192, 101508, 59407, 52543]\n",
      "[7263, 14525, 10020, 11077]\n",
      "[3000, 3000, 3000, 3000]\n",
      "plotted /Users/nicol/Documents/KUL 2020-2021/thesis/code/results\\results\\figures\\new_counting\\ecoli.png\n",
      "/Users/nicol/Documents/KUL 2020-2021/thesis/code/results\\results\\figures\\new_counting\\faces_expression_imagenet.png\n",
      "[917, 1243, 5699, 5035]\n",
      "[565, 689, 2002, 1825]\n",
      "[3000, 3000, 2871, 2982]\n",
      "plotted /Users/nicol/Documents/KUL 2020-2021/thesis/code/results\\results\\figures\\new_counting\\faces_expression_imagenet.png\n",
      "/Users/nicol/Documents/KUL 2020-2021/thesis/code/results\\results\\figures\\new_counting\\faces_eyes_imagenet.png\n",
      "[28054, 37898, 6699, 11421]\n",
      "[7593, 10228, 3389, 5366]\n",
      "[3000, 3000, 1417, 1817]\n",
      "plotted /Users/nicol/Documents/KUL 2020-2021/thesis/code/results\\results\\figures\\new_counting\\faces_eyes_imagenet.png\n",
      "/Users/nicol/Documents/KUL 2020-2021/thesis/code/results\\results\\figures\\new_counting\\faces_identity_imagenet.png\n",
      "[26, 23, 3928, 3098]\n",
      "[26, 23, 959, 990]\n",
      "[3000, 3000, 2809, 2832]\n",
      "plotted /Users/nicol/Documents/KUL 2020-2021/thesis/code/results\\results\\figures\\new_counting\\faces_identity_imagenet.png\n",
      "/Users/nicol/Documents/KUL 2020-2021/thesis/code/results\\results\\figures\\new_counting\\faces_pose_imagenet.png\n",
      "[623, 786, 2752, 4927]\n",
      "[452, 471, 1083, 1512]\n",
      "[3000, 3000, 2735, 2946]\n",
      "plotted /Users/nicol/Documents/KUL 2020-2021/thesis/code/results\\results\\figures\\new_counting\\faces_pose_imagenet.png\n",
      "/Users/nicol/Documents/KUL 2020-2021/thesis/code/results\\results\\figures\\new_counting\\glass.png\n",
      "[10998, 18765, 17073, 24512]\n",
      "[3045, 4290, 4416, 5880]\n",
      "[3000, 3000, 2730, 3000]\n",
      "plotted /Users/nicol/Documents/KUL 2020-2021/thesis/code/results\\results\\figures\\new_counting\\glass.png\n",
      "/Users/nicol/Documents/KUL 2020-2021/thesis/code/results\\results\\figures\\new_counting\\hepatitis.png\n",
      "[33256, 33694, 19952, 23363]\n",
      "[8358, 10084, 8138, 8489]\n",
      "[3000, 3000, 2926, 3000]\n",
      "plotted /Users/nicol/Documents/KUL 2020-2021/thesis/code/results\\results\\figures\\new_counting\\hepatitis.png\n",
      "/Users/nicol/Documents/KUL 2020-2021/thesis/code/results\\results\\figures\\new_counting\\ionosphere.png\n",
      "[25329, 30758, 3083, 20614]\n",
      "[7112, 8437, 1460, 7352]\n",
      "[3000, 3000, 966, 2699]\n",
      "plotted /Users/nicol/Documents/KUL 2020-2021/thesis/code/results\\results\\figures\\new_counting\\ionosphere.png\n",
      "/Users/nicol/Documents/KUL 2020-2021/thesis/code/results\\results\\figures\\new_counting\\iris.png\n",
      "[155013, 394702, 162941, 193178]\n",
      "[20443, 33994, 19716, 24860]\n",
      "[3000, 3000, 2892, 3000]\n",
      "plotted /Users/nicol/Documents/KUL 2020-2021/thesis/code/results\\results\\figures\\new_counting\\iris.png\n",
      "/Users/nicol/Documents/KUL 2020-2021/thesis/code/results\\results\\figures\\new_counting\\newsgroups_diff3.png\n",
      "[57079, 70236, 41284, 40161]\n",
      "[10399, 12630, 6362, 7894]\n",
      "[3000, 3000, 3000, 3000]\n",
      "plotted /Users/nicol/Documents/KUL 2020-2021/thesis/code/results\\results\\figures\\new_counting\\newsgroups_diff3.png\n",
      "/Users/nicol/Documents/KUL 2020-2021/thesis/code/results\\results\\figures\\new_counting\\newsgroups_sim3.png\n",
      "[21140, 27782, 15507, 13017]\n",
      "[4738, 6320, 3453, 3340]\n",
      "[3000, 3000, 3000, 3000]\n",
      "plotted /Users/nicol/Documents/KUL 2020-2021/thesis/code/results\\results\\figures\\new_counting\\newsgroups_sim3.png\n",
      "/Users/nicol/Documents/KUL 2020-2021/thesis/code/results\\results\\figures\\new_counting\\optdigits389_full.png\n",
      "[174794, 365178, 77945, 64507]\n",
      "[25530, 34593, 11069, 8747]\n",
      "[3000, 3000, 3000, 3000]\n",
      "plotted /Users/nicol/Documents/KUL 2020-2021/thesis/code/results\\results\\figures\\new_counting\\optdigits389_full.png\n",
      "/Users/nicol/Documents/KUL 2020-2021/thesis/code/results\\results\\figures\\new_counting\\parkinsons.png\n",
      "[27753, 26621, 8981, 27880]\n",
      "[7867, 7480, 3190, 5531]\n",
      "[3000, 3000, 1345, 2532]\n",
      "plotted /Users/nicol/Documents/KUL 2020-2021/thesis/code/results\\results\\figures\\new_counting\\parkinsons.png\n",
      "/Users/nicol/Documents/KUL 2020-2021/thesis/code/results\\results\\figures\\new_counting\\segmentation.png\n",
      "[17973, 11028, 3832, 2048]\n",
      "[4916, 1841, 798, 440]\n",
      "[3000, 3000, 3000, 3000]\n",
      "plotted /Users/nicol/Documents/KUL 2020-2021/thesis/code/results\\results\\figures\\new_counting\\segmentation.png\n",
      "/Users/nicol/Documents/KUL 2020-2021/thesis/code/results\\results\\figures\\new_counting\\sonar.png\n",
      "[10743, 13081, 13512, 17300]\n",
      "[3792, 5358, 4886, 5831]\n",
      "[3000, 3000, 2142, 2976]\n",
      "plotted /Users/nicol/Documents/KUL 2020-2021/thesis/code/results\\results\\figures\\new_counting\\sonar.png\n",
      "/Users/nicol/Documents/KUL 2020-2021/thesis/code/results\\results\\figures\\new_counting\\spambase.png\n",
      "[34639, 19340, 80692, 45955]\n",
      "[5392, 3196, 5327, 4615]\n",
      "[3000, 3000, 3000, 3000]\n",
      "plotted /Users/nicol/Documents/KUL 2020-2021/thesis/code/results\\results\\figures\\new_counting\\spambase.png\n",
      "/Users/nicol/Documents/KUL 2020-2021/thesis/code/results\\results\\figures\\new_counting\\wine.png\n",
      "[209880, 318750, 116543, 152218]\n",
      "[24961, 29695, 14479, 20455]\n",
      "[3000, 3000, 2890, 3000]\n",
      "plotted /Users/nicol/Documents/KUL 2020-2021/thesis/code/results\\results\\figures\\new_counting\\wine.png\n",
      "/Users/nicol/Documents/KUL 2020-2021/thesis/code/results\\results\\figures\\new_counting\\yeast.png\n",
      "[11374, 17035, 12759, 10768]\n",
      "[3437, 4623, 2870, 3499]\n",
      "[3000, 3000, 3000, 3000]\n",
      "plotted /Users/nicol/Documents/KUL 2020-2021/thesis/code/results\\results\\figures\\new_counting\\yeast.png\n",
      "all resulting plots are in \\Users\\nicol\\Documents\\KUL 2020-2021\\thesis\\code\\results\\results\\figures\\new_counting\n"
     ]
    }
   ],
   "source": [
    "test_names = [test_name_1,test_name_6,test_name_9,test_name_10]#,test_name_1, test_name_3, test_name_5, test_name_6, test_name_7, test_name_8, test_name_9, test_name_10]\n",
    "comparison_name = 'new_counting'\n",
    "nb_of_cores = 4\n",
    "query_budget = 100\n",
    "\n",
    "#print(clusterer_1.logger.nr_reused_constraints)\n",
    "\n",
    "calculate_n_times_n_fold_aris_for_testnames(test_names, nb_cores=nb_of_cores)\n",
    "calculate_average_aris(test_names, query_budget)\n",
    "calculate_and_write_aligned_rank(test_names,comparison_name)\n",
    "\n",
    "plot_average_ARI_per_dataset(comparison_name, test_names, test_names)\n",
    "plot_overall_average_ARI(comparison_name, test_names, test_names)\n",
    "plot_rank_comparison_file(comparison_name, test_names, test_names)\n",
    "\n",
    "calculate_and_plot_query_reuse(comparison_name, test_names)\n",
    "calculate_and_plot_query_reuse_per_dataset(comparison_name, test_names)\n",
    "\n",
    "print(f\"all resulting plots are in {Path(FIGURE_DIR)/comparison_name}\")"
   ]
  },
  {
   "cell_type": "code",
   "execution_count": null,
   "metadata": {},
   "outputs": [],
   "source": []
  }
 ],
 "metadata": {
  "kernelspec": {
   "display_name": "Python 3",
   "language": "python",
   "name": "python3"
  },
  "language_info": {
   "codemirror_mode": {
    "name": "ipython",
    "version": 3
   },
   "file_extension": ".py",
   "mimetype": "text/x-python",
   "name": "python",
   "nbconvert_exporter": "python",
   "pygments_lexer": "ipython3",
   "version": "3.8.3"
  }
 },
 "nbformat": 4,
 "nbformat_minor": 4
}
