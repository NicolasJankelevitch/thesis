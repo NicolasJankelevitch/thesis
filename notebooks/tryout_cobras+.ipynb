{
 "cells": [
  {
   "cell_type": "code",
   "execution_count": 1,
   "metadata": {},
   "outputs": [
    {
     "name": "stdout",
     "output_type": "stream",
     "text": [
      "module path of dont_know added\n"
     ]
    }
   ],
   "source": [
    "import os\n",
    "import sys\n",
    "module_path_dont_know = os.path.abspath(os.path.join('../COBRAS_dont_know'))\n",
    "\n",
    "if module_path_dont_know not in sys.path:\n",
    "    sys.path.append(module_path_dont_know)\n",
    "    print(\"module path of dont_know added\")\n",
    "\n",
    "from cobras.constraints.constraint import Constraint\n",
    "from cobras.constraints.constraint_type import ConstraintType\n",
    "from scipy.spatial import distance\n",
    "\n",
    "from cobras.cobras import COBRAS\n",
    "from cobras.cobras_logger import COBRASLogger\n",
    "from heuristics.splitlevel_estimation_strategy import StandardSplitLevelEstimationStrategyAlwayskmeans\n",
    "from cobras.querier.labelquerier import LabelQuerier\n",
    "from util.datasets import Dataset\n",
    "from heuristics.select_super_instance_heuristics import SelectMostInstancesHeuristic\n",
    "from clustering_algorithms.kmeans_fixed_representative import KmeansFixedRepresentative\n",
    "from cobras.super_instances.superinstance_select_representative import SuperInstance_select_representative_Builder"
   ]
  },
  {
   "cell_type": "code",
   "execution_count": 2,
   "metadata": {},
   "outputs": [],
   "source": [
    "def get_dissimilarity(c1: Constraint, c2: Constraint):\n",
    "    length1 = distance.euclidean(c1.i1, c1.i2)\n",
    "    length2 = distance.euclidean(c2.i1, c2.i2)\n",
    "    denominator = (length1 + length2)/2\n",
    "    distance1 = distance.euclidean(c1.i1, c2.i1)\n",
    "    distance2 = distance.euclidean(c1.i2, c2.i2)\n",
    "    distance3 = distance.euclidean(c1.i1, c2.i2)\n",
    "    distance4 = distance.euclidean(c1.i2, c2.i1)\n",
    "    numerator = min(max(distance1, distance2), max(distance3, distance4))\n",
    "    return (numerator / denominator)"
   ]
  },
  {
   "cell_type": "code",
   "execution_count": 3,
   "metadata": {},
   "outputs": [
    {
     "name": "stdout",
     "output_type": "stream",
     "text": [
      "0.32455532033675866\n",
      "1.7995042678574928\n"
     ]
    }
   ],
   "source": [
    "c1 = Constraint((1,3),(4,3), ConstraintType.DK)\n",
    "c2 = Constraint((1,2),(4,3), ConstraintType.DK)\n",
    "c3 = Constraint((30,10),(4,3), ConstraintType.DK)\n",
    "\n",
    "sim1 = get_dissimilarity(c1, c2)\n",
    "sim2 = get_dissimilarity(c1, c3)\n",
    "print(sim1)\n",
    "print(sim2)"
   ]
  },
  {
   "cell_type": "code",
   "execution_count": null,
   "metadata": {},
   "outputs": [],
   "source": []
  }
 ],
 "metadata": {
  "kernelspec": {
   "display_name": "Python 3",
   "language": "python",
   "name": "python3"
  },
  "language_info": {
   "codemirror_mode": {
    "name": "ipython",
    "version": 3
   },
   "file_extension": ".py",
   "mimetype": "text/x-python",
   "name": "python",
   "nbconvert_exporter": "python",
   "pygments_lexer": "ipython3",
   "version": "3.8.3"
  }
 },
 "nbformat": 4,
 "nbformat_minor": 4
}
