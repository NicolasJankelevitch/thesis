{
 "cells": [
  {
   "cell_type": "code",
   "execution_count": 1,
   "metadata": {},
   "outputs": [
    {
     "name": "stdout",
     "output_type": "stream",
     "text": [
      "module path of cobras+ added\n",
      "module path of testing added\n"
     ]
    }
   ],
   "source": [
    "import os\n",
    "import sys\n",
    "module_path_cobras = os.path.abspath(os.path.join('../../COBRAS+_Aras/cobras-plus-shared-master(1)/cobras-plus-shared-master'))\n",
    "module_path_testing = os.path.abspath(os.path.join('../../COBRAS+_Aras/cobras-plus-shared-master(1)/COBRAS_testing'))\n",
    "\n",
    "if module_path_cobras not in sys.path:\n",
    "    sys.path.append(module_path_cobras)\n",
    "    print(\"module path of cobras+ added\")\n",
    "\n",
    "if module_path_testing not in sys.path:\n",
    "    sys.path.append(module_path_testing)\n",
    "    print(\"module path of testing added\")"
   ]
  },
  {
   "cell_type": "code",
   "execution_count": 2,
   "metadata": {},
   "outputs": [],
   "source": [
    "from cobras_ts.cobras_kmeans import COBRAS_kmeans\n",
    "from cobras_ts.labelquerier import LabelQuerier\n",
    "\n",
    "from datasets import Dataset\n",
    "from before_clustering.generate_folds import generate_folds_for_dataset\n",
    "from config import FOLD_RESULT_DIR, FIGURE_DIR\n",
    "from pathlib import Path\n",
    "from generate_clusterings.clustering_task import make_n_run_10_fold_cross_validation\n",
    "from run_locally.run_tests import run_clustering_tasks_locally\n",
    "from evaluate_clusterings.calculate_aris import calculate_n_times_n_fold_aris_for_testnames\n",
    "from evaluate_clusterings.calculate_average_aris import calculate_average_aris\n",
    "from evaluate_clusterings.calculate_aligned_rank import calculate_and_write_aligned_rank\n",
    "from present_results.plot_aris import plot_average_ARI_per_dataset\n",
    "from present_results.plot_aris import plot_overall_average_ARI\n",
    "from present_results.plot_aligned_rank import plot_rank_comparison_file\n"
   ]
  },
  {
   "cell_type": "code",
   "execution_count": 3,
   "metadata": {},
   "outputs": [],
   "source": [
    "if not Path(FOLD_RESULT_DIR).exists():\n",
    "    generate_folds_for_dataset()"
   ]
  },
  {
   "cell_type": "code",
   "execution_count": 4,
   "metadata": {},
   "outputs": [],
   "source": [
    "ds = Dataset(\"iris\")\n",
    "querier = LabelQuerier(ds.target)\n",
    "clusterer_1 = COBRAS_kmeans(ds.data, querier, 100, store_intermediate_results=True,\n",
    "                            compatibility_intermediate_results=True)\n",
    "test_name_1 = \"Code_aras_baseline\"\n",
    "#clusterer_1.cluster()"
   ]
  },
  {
   "cell_type": "code",
   "execution_count": 5,
   "metadata": {},
   "outputs": [],
   "source": [
    "all_dataset_names = Dataset.get_standard_dataset_names()#[\"iris\"]#\n",
    "#all_dataset_names.remove('faces_eyes_imagenet')\n",
    "clustering_tasks = make_n_run_10_fold_cross_validation(test_name_1, clusterer_1, querier, all_dataset_names, 3)\n"
   ]
  },
  {
   "cell_type": "code",
   "execution_count": 6,
   "metadata": {},
   "outputs": [],
   "source": [
    "clusterer_2 = COBRAS_kmeans(ds.data, querier, 100, store_intermediate_results_extended=True, \n",
    "                            compatibility_intermediate_results=True,\n",
    "                            check_ml_constraints=2,\n",
    "                            check_all_instances=0,\n",
    "                            check_all_instances_threshold=0.75)\n",
    "test_name_2 = \"Code_aras_params_2_0_0.75\"\n",
    "clustering_tasks.extend( make_n_run_10_fold_cross_validation(test_name_2, clusterer_2, querier, all_dataset_names, 3))"
   ]
  },
  {
   "cell_type": "code",
   "execution_count": 7,
   "metadata": {},
   "outputs": [],
   "source": [
    "clusterer_3 = COBRAS_kmeans(ds.data, querier, 100, store_intermediate_results_extended=True, \n",
    "                            compatibility_intermediate_results=True,\n",
    "                            check_ml_constraints=2,\n",
    "                            check_all_instances=0.5,\n",
    "                            check_all_instances_threshold=0.75)\n",
    "test_name_3 = \"Code_Aras_params_2_0.5_0.75\"\n",
    "clustering_tasks.extend( make_n_run_10_fold_cross_validation(test_name_3, clusterer_3, querier, all_dataset_names, 3))"
   ]
  },
  {
   "cell_type": "code",
   "execution_count": 8,
   "metadata": {},
   "outputs": [],
   "source": [
    "clusterer_4 = COBRAS_kmeans(ds.data, querier, 100, store_intermediate_results_extended=True, \n",
    "                            compatibility_intermediate_results=True,\n",
    "                            check_ml_constraints=2,\n",
    "                            check_all_instances=0.5,\n",
    "                            check_all_instances_threshold=0.75,\n",
    "                           incremental=0.5)\n",
    "test_name_4 = \"Code_Aras_params_2_0.5_0.75_0.5\"\n",
    "clustering_tasks.extend( make_n_run_10_fold_cross_validation(test_name_4, clusterer_4, querier, all_dataset_names, 3))"
   ]
  },
  {
   "cell_type": "code",
   "execution_count": 9,
   "metadata": {},
   "outputs": [
    {
     "name": "stderr",
     "output_type": "stream",
     "text": [
      "100%|██████████| 630/630 [30:51<00:00,  2.94s/it]  \n"
     ]
    }
   ],
   "source": [
    "run_clustering_tasks_locally(clustering_tasks,4)"
   ]
  },
  {
   "cell_type": "code",
   "execution_count": 4,
   "metadata": {},
   "outputs": [
    {
     "name": "stderr",
     "output_type": "stream",
     "text": [
      " 50%|█████     | 1/2 [00:00<00:00,  6.28it/s]"
     ]
    },
    {
     "name": "stdout",
     "output_type": "stream",
     "text": [
      "Calculating ARIs for n-times n-fold:  ['Code_aras_baseline', 'standard_COBRAS']\n",
      "already calculated\n",
      "Calculating average ARIs\n"
     ]
    },
    {
     "name": "stderr",
     "output_type": "stream",
     "text": [
      "100%|██████████| 2/2 [00:00<00:00,  6.09it/s]\n"
     ]
    },
    {
     "name": "stdout",
     "output_type": "stream",
     "text": [
      "calculating average rank\n",
      "all resulting plots are in \\Users\\nicol\\Documents\\KUL 2020-2021\\thesis\\COBRAS+_Aras\\results\\results\\figures\\Code_aras_test_10\n"
     ]
    }
   ],
   "source": [
    "test_name_1 = \"Code_aras_baseline\"\n",
    "test_name_2 = \"Code_aras_params_2_0_0.75\"\n",
    "test_name_3 = \"Code_Aras_params_2_0.5_0.75\"\n",
    "test_name_4 = \"Code_Aras_params_2_0.5_0.75_0.5\"\n",
    "test_name_5 = \"standard_COBRAS\"\n",
    "test_names = [test_name_1, test_name_5]#test_name_1,test_name_6,\n",
    "comparison_name = 'Code_aras_test_10'\n",
    "nb_of_cores = 4\n",
    "query_budget = 100\n",
    "\n",
    "#print(clusterer_1.logger.nr_reused_constraints)\n",
    "\n",
    "calculate_n_times_n_fold_aris_for_testnames(test_names, nb_cores=nb_of_cores)\n",
    "calculate_average_aris(test_names, query_budget)\n",
    "calculate_and_write_aligned_rank(test_names,comparison_name)\n",
    "\n",
    "plot_average_ARI_per_dataset(comparison_name, test_names, test_names)\n",
    "plot_overall_average_ARI(comparison_name, test_names, test_names)\n",
    "plot_rank_comparison_file(comparison_name, test_names, test_names)\n",
    "\n",
    "#calculate_and_plot_query_reuse(comparison_name, test_names)\n",
    "#calculate_and_plot_query_reuse_per_dataset(comparison_name, test_names)\n",
    "\n",
    "print(f\"all resulting plots are in {Path(FIGURE_DIR)/comparison_name}\")"
   ]
  },
  {
   "cell_type": "code",
   "execution_count": null,
   "metadata": {},
   "outputs": [],
   "source": []
  }
 ],
 "metadata": {
  "kernelspec": {
   "display_name": "Python 3",
   "language": "python",
   "name": "python3"
  },
  "language_info": {
   "codemirror_mode": {
    "name": "ipython",
    "version": 3
   },
   "file_extension": ".py",
   "mimetype": "text/x-python",
   "name": "python",
   "nbconvert_exporter": "python",
   "pygments_lexer": "ipython3",
   "version": "3.8.3"
  }
 },
 "nbformat": 4,
 "nbformat_minor": 4
}
